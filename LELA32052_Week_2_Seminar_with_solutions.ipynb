{
  "cells": [
    {
      "cell_type": "markdown",
      "id": "ada7675f",
      "metadata": {
        "id": "ada7675f"
      },
      "source": [
        "# LELA32052 Computational Linguistics Week 2"
      ]
    },
    {
      "cell_type": "markdown",
      "id": "59c58486",
      "metadata": {
        "id": "59c58486"
      },
      "source": [
        "## Tokenisation and Morphology\n",
        "\n",
        "In this week's session we are going to look at a tool that is very useful in implementing the preprocessing tasks introduced in the lecture - regular expressions.\n"
      ]
    },
    {
      "cell_type": "markdown",
      "id": "3a659d6d",
      "metadata": {
        "id": "3a659d6d"
      },
      "source": [
        "### Regular Expressions"
      ]
    },
    {
      "cell_type": "markdown",
      "id": "e8f6fcae",
      "metadata": {
        "id": "e8f6fcae"
      },
      "source": [
        "Last week we used functions that belong to the datatype string to manipulate text. This week we are going to explore a much more powerful way of manipulating text - the regular expression. In order to do this we need to import the regular expressions library (https://docs.python.org/3/library/re.html):"
      ]
    },
    {
      "cell_type": "code",
      "execution_count": null,
      "id": "7b4e577d",
      "metadata": {
        "id": "7b4e577d"
      },
      "outputs": [],
      "source": [
        "import re"
      ]
    },
    {
      "cell_type": "markdown",
      "id": "23259638",
      "metadata": {
        "id": "23259638"
      },
      "source": [
        "### re.findall()\n",
        "One very useful function in the re package is re.findall() - this searches for occurences of a pattern in a given string. It takes a regular expression to search for, between quotes, as its first argument and a string to search as its second argument. If it find matches, it returns them in a list:"
      ]
    },
    {
      "cell_type": "code",
      "execution_count": null,
      "id": "c2e719a5",
      "metadata": {
        "id": "c2e719a5"
      },
      "outputs": [],
      "source": [
        "sentence=\"I like both dogs and cats\"\n",
        "re.findall(\"cats\", sentence)"
      ]
    },
    {
      "cell_type": "markdown",
      "id": "90e2559e",
      "metadata": {
        "id": "90e2559e"
      },
      "source": [
        "Exercise: Based on what you learned about in this weeks lecture rewrite this pattern so that it finds all of the things that the speaker likes:"
      ]
    },
    {
      "cell_type": "code",
      "execution_count": null,
      "id": "69a764a7",
      "metadata": {
        "id": "69a764a7"
      },
      "outputs": [],
      "source": [
        "re.findall(\"[a-z]+s\", sentence)"
      ]
    },
    {
      "cell_type": "markdown",
      "id": "815b8799",
      "metadata": {
        "id": "815b8799"
      },
      "source": [
        "For this new sentence write a pattern that detects all of the things that the speaker likes:"
      ]
    },
    {
      "cell_type": "code",
      "execution_count": null,
      "id": "45383a36",
      "metadata": {
        "id": "45383a36"
      },
      "outputs": [],
      "source": [
        "sentence3=\"I like dogs, cats and rabbits\""
      ]
    },
    {
      "cell_type": "code",
      "execution_count": null,
      "id": "b1bf09ba",
      "metadata": {
        "id": "b1bf09ba"
      },
      "outputs": [],
      "source": [
        "re.findall(\"[a-z]+s\", sentence3)"
      ]
    },
    {
      "cell_type": "markdown",
      "id": "8726769c",
      "metadata": {
        "id": "8726769c"
      },
      "source": [
        "For this new sentence detect all past tense forms of verbs:"
      ]
    },
    {
      "cell_type": "code",
      "execution_count": null,
      "id": "1d57f1c6",
      "metadata": {
        "id": "1d57f1c6"
      },
      "outputs": [],
      "source": [
        "sentence4=\"I wanted some exercise so I walked to work today\""
      ]
    },
    {
      "cell_type": "code",
      "execution_count": null,
      "id": "85ef7420",
      "metadata": {
        "id": "85ef7420"
      },
      "outputs": [],
      "source": [
        "re.findall(\"[a-z]+ed\", sentence4)"
      ]
    },
    {
      "cell_type": "markdown",
      "id": "f6af4edd",
      "metadata": {
        "id": "f6af4edd"
      },
      "source": [
        "Do the same for sentence 5:"
      ]
    },
    {
      "cell_type": "code",
      "execution_count": null,
      "id": "1938ec36",
      "metadata": {
        "id": "1938ec36"
      },
      "outputs": [],
      "source": [
        "sentence5=\"I wanted some exercise so I walked to work today and was tired afterwards\""
      ]
    },
    {
      "cell_type": "code",
      "execution_count": null,
      "id": "1e59d214",
      "metadata": {
        "id": "1e59d214"
      },
      "outputs": [],
      "source": [
        "re.findall(\"w[a-z]+ed|was\", sentence5)"
      ]
    },
    {
      "cell_type": "markdown",
      "id": "dd639fea-ee32-420b-9dc9-3eeebaf760d8",
      "metadata": {
        "id": "dd639fea-ee32-420b-9dc9-3eeebaf760d8"
      },
      "source": [
        "New function: len() is a built-in Python function that tells use the length of various data types and structures including strings and lists:"
      ]
    },
    {
      "cell_type": "code",
      "execution_count": null,
      "id": "00965e09-5ce8-4d85-aaff-1aca7109ffb5",
      "metadata": {
        "id": "00965e09-5ce8-4d85-aaff-1aca7109ffb5"
      },
      "outputs": [],
      "source": [
        "len(sentence5)"
      ]
    },
    {
      "cell_type": "markdown",
      "id": "9ad4f2df-d489-4629-ad67-42e47f1a1bfb",
      "metadata": {
        "id": "9ad4f2df-d489-4629-ad67-42e47f1a1bfb"
      },
      "source": [
        "Exercise: Use the len function together with findall in order to count occurences of words in sentence 5 that end in \"ed\"."
      ]
    },
    {
      "cell_type": "code",
      "execution_count": null,
      "id": "17da41e2-4214-4bb1-af18-cf0e2a48e6af",
      "metadata": {
        "id": "17da41e2-4214-4bb1-af18-cf0e2a48e6af"
      },
      "outputs": [],
      "source": [
        "len(re.findall(\"[a-z]+ed\", sentence5))"
      ]
    },
    {
      "cell_type": "markdown",
      "id": "559c5b61-2875-4c5e-805e-064b0e7311bb",
      "metadata": {
        "id": "559c5b61-2875-4c5e-805e-064b0e7311bb"
      },
      "source": [
        "### re.compile()"
      ]
    },
    {
      "cell_type": "markdown",
      "id": "3610cb9f-f6ea-4ab3-8ad9-59c225502a84",
      "metadata": {
        "id": "3610cb9f-f6ea-4ab3-8ad9-59c225502a84"
      },
      "source": [
        "For patterns that we want to use again and again we can use the function re.compile(). This returns a re \"object\" that has all of the re functions."
      ]
    },
    {
      "cell_type": "code",
      "execution_count": null,
      "id": "0a557eb5-5b56-4f90-9fde-f65e8e30200a",
      "metadata": {
        "id": "0a557eb5-5b56-4f90-9fde-f65e8e30200a"
      },
      "outputs": [],
      "source": [
        "past_tense = re.compile(\"ed\")\n",
        "print(past_tense.findall(sentence5))"
      ]
    },
    {
      "cell_type": "markdown",
      "id": "ba4d8356-c163-4392-bfaf-97630b7497fe",
      "metadata": {
        "id": "ba4d8356-c163-4392-bfaf-97630b7497fe"
      },
      "source": [
        "### re.sub()"
      ]
    },
    {
      "cell_type": "markdown",
      "id": "82c3dabf-a023-49f5-90fb-8709d218f78e",
      "metadata": {
        "id": "82c3dabf-a023-49f5-90fb-8709d218f78e"
      },
      "source": [
        "Another very useful function is re.sub. This finds all occurences of a given sequence and replaces it with a sequence provided:"
      ]
    },
    {
      "cell_type": "code",
      "execution_count": null,
      "id": "61b85ce6-e8cd-4eb3-904b-42c47c28a8b5",
      "metadata": {
        "id": "61b85ce6-e8cd-4eb3-904b-42c47c28a8b5"
      },
      "outputs": [],
      "source": [
        "print(re.sub('ed','ing',sentence5))"
      ]
    },
    {
      "cell_type": "markdown",
      "id": "6cfb84ae",
      "metadata": {
        "id": "6cfb84ae"
      },
      "source": [
        "For lots of applications of re.sub you will need to \"cascade\" substitutions - apply one substitution and take the output as input to the next as in the following command which turns \"I like both dogs and cats\" into \"I like  both lions and tigers\":"
      ]
    },
    {
      "cell_type": "code",
      "execution_count": null,
      "id": "b8a3edf7",
      "metadata": {
        "id": "b8a3edf7"
      },
      "outputs": [],
      "source": [
        "s2 = re.sub('dogs','lions',sentence)\n",
        "s3 = re.sub('cats','tigers',s2)\n",
        "print(s3)"
      ]
    },
    {
      "cell_type": "markdown",
      "id": "af9dfd45-d384-4e6e-ace8-56b54da6462e",
      "metadata": {
        "id": "af9dfd45-d384-4e6e-ace8-56b54da6462e"
      },
      "source": [
        "Activity: Write a regular expression or series of regular expression to translate this first sentence of \"Crime and Punishment\" from past to present tense."
      ]
    },
    {
      "cell_type": "code",
      "execution_count": null,
      "id": "ff0974f6-9a71-48fb-9b7d-e8d6b70ab3e9",
      "metadata": {
        "scrolled": true,
        "id": "ff0974f6-9a71-48fb-9b7d-e8d6b70ab3e9"
      },
      "outputs": [],
      "source": [
        "opening_sentence = \"On an exceptionally hot evening early in July a young man came out of the garret in which he lodged in S. Place and walked slowly, as though in hesitation, towards K. bridge.\"\n",
        "opening_sentence = re.sub('came','comes',opening_sentence)\n",
        "opening_sentence = re.sub('lodged','lodges',opening_sentence)\n",
        "opening_sentence = re.sub('walked','walks',opening_sentence)\n",
        "print(opening_sentence)"
      ]
    },
    {
      "cell_type": "code",
      "execution_count": null,
      "id": "34643730",
      "metadata": {
        "id": "34643730"
      },
      "outputs": [],
      "source": []
    },
    {
      "cell_type": "markdown",
      "id": "a1dbb833-d727-4406-b841-00f593e0a7e7",
      "metadata": {
        "id": "a1dbb833-d727-4406-b841-00f593e0a7e7"
      },
      "source": [
        "### Groups"
      ]
    },
    {
      "cell_type": "markdown",
      "id": "c2d91273-4d07-444b-b80b-9e1ab940241d",
      "metadata": {
        "id": "c2d91273-4d07-444b-b80b-9e1ab940241d"
      },
      "source": [
        "Grouping is a very powerful technique for picking out substrings from a string that matches a specified pattern. It is done using parentheses. The technically can be used to get a list of the substrings (technically a tuple which is like a list but immutable meaning that the element cannot be changed once created)."
      ]
    },
    {
      "cell_type": "code",
      "execution_count": null,
      "id": "c95a71b8-0d7e-4ece-99a2-5eace6b15e42",
      "metadata": {
        "id": "c95a71b8-0d7e-4ece-99a2-5eace6b15e42"
      },
      "outputs": [],
      "source": [
        "re.findall(\"(.*)(s)\", \"cats\")"
      ]
    },
    {
      "cell_type": "markdown",
      "id": "7d20a12a",
      "metadata": {
        "id": "7d20a12a"
      },
      "source": [
        "Exercise: In this example grouping has separated a single noun from the plural marking -s. Rewrite the pattern so that it finds and similarly separates all plural nouns in sentence 3:"
      ]
    },
    {
      "cell_type": "code",
      "execution_count": null,
      "id": "0594d6e9",
      "metadata": {
        "id": "0594d6e9"
      },
      "outputs": [],
      "source": [
        "sentence3=\"I like dogs, cats and rabbits\""
      ]
    },
    {
      "cell_type": "code",
      "execution_count": null,
      "id": "598a18ad",
      "metadata": {
        "id": "598a18ad"
      },
      "outputs": [],
      "source": [
        "re.findall(\"([a-z]+)(s)\", sentence3)"
      ]
    },
    {
      "cell_type": "markdown",
      "id": "cb456e43",
      "metadata": {
        "id": "cb456e43"
      },
      "source": []
    },
    {
      "cell_type": "markdown",
      "id": "6057638d",
      "metadata": {
        "id": "6057638d"
      },
      "source": [
        "### Combining sub with groups\n",
        "The re.sub function and grouping become particularly powerful when they are combined. You can use parentheses to capture a particular substring within a pattern and then use it in your replacement string within sub. For example:\n"
      ]
    },
    {
      "cell_type": "code",
      "execution_count": null,
      "id": "91963cae",
      "metadata": {
        "id": "91963cae"
      },
      "outputs": [],
      "source": [
        "opening_sentence = \"a young man came out of the garret in which he lodged in S. Place and walked slowly towards K. bridge.\""
      ]
    },
    {
      "cell_type": "code",
      "execution_count": null,
      "id": "c33d2ae2",
      "metadata": {
        "id": "c33d2ae2"
      },
      "outputs": [],
      "source": [
        "re.sub('([a-z]+)ed','is \\\\1ing',opening_sentence)"
      ]
    },
    {
      "cell_type": "markdown",
      "id": "fef174bd",
      "metadata": {
        "id": "fef174bd"
      },
      "source": [
        "Activity: Use sub combined with groups to convert the sentence \"man bites dog\" into \"dog bites man\""
      ]
    },
    {
      "cell_type": "code",
      "execution_count": null,
      "id": "af2a83d2",
      "metadata": {
        "id": "af2a83d2"
      },
      "outputs": [],
      "source": [
        "sentence = \"man bites dog\"\n",
        "print(re.sub('([a-z]+) ([a-z]+) ([a-z]+)','\\\\3 \\\\2 \\\\1',sentence))"
      ]
    },
    {
      "cell_type": "markdown",
      "id": "8070f9e1",
      "metadata": {
        "id": "8070f9e1"
      },
      "source": [
        "Activity: Use sub combined with groups to convert the sentence \"man strokes dog\" into \"dog is stroked by man\""
      ]
    },
    {
      "cell_type": "code",
      "execution_count": null,
      "id": "4c1588f9",
      "metadata": {
        "id": "4c1588f9"
      },
      "outputs": [],
      "source": [
        "sentence = \"man strokes dog\"\n",
        "print(re.sub('([a-z]+) ([a-z]+)s ([a-z]+)','\\\\3 is \\\\2d by \\\\1',sentence))"
      ]
    }
  ],
  "metadata": {
    "colab": {
      "name": "Week_3_Seminar.ipynb",
      "provenance": []
    },
    "kernelspec": {
      "display_name": "Python 3 (ipykernel)",
      "language": "python",
      "name": "python3"
    },
    "language_info": {
      "codemirror_mode": {
        "name": "ipython",
        "version": 3
      },
      "file_extension": ".py",
      "mimetype": "text/x-python",
      "name": "python",
      "nbconvert_exporter": "python",
      "pygments_lexer": "ipython3",
      "version": "3.9.6"
    }
  },
  "nbformat": 4,
  "nbformat_minor": 5
}