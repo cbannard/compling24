{
  "cells": [
    {
      "cell_type": "markdown",
      "id": "ada7675f",
      "metadata": {
        "id": "ada7675f"
      },
      "source": [
        "# LELA32052 Computational Linguistics Week 3"
      ]
    },
    {
      "cell_type": "code",
      "execution_count": null,
      "id": "ede3dfeb",
      "metadata": {
        "id": "ede3dfeb"
      },
      "outputs": [],
      "source": [
        "import re"
      ]
    },
    {
      "cell_type": "markdown",
      "id": "f508cffb",
      "metadata": {
        "id": "f508cffb"
      },
      "source": [
        "### Escaping special characters\n",
        "We have learned about a number of character that have a special meaning in regular expressions (periods, dollar signs etc). We might sometimes want to search for these characters in strings. To do this we can \"escape\" the character using a backslash() as follows:\n"
      ]
    },
    {
      "cell_type": "code",
      "execution_count": null,
      "id": "02871a24",
      "metadata": {
        "id": "02871a24"
      },
      "outputs": [],
      "source": [
        "opening_sentence = \"On an exceptionally hot evening early in July a young man came out of the garret in which he lodged in S. Place and walked slowly, as though in hesitation, towards K. bridge.\"\n",
        "re.findall(\"\\.\",opening_sentence)"
      ]
    },
    {
      "cell_type": "markdown",
      "id": "f53a7a48",
      "metadata": {
        "id": "f53a7a48"
      },
      "source": [
        "### re.split()\n",
        "In week 1 we learned to tokenise a string using the string function split. re also has a split function. re.split() takes a regular expression as a first argument (unless you have a precompiled pattern) and a string as second argument, and split the string into tokens divided by all substrings matched by the regular expression.\n",
        "Can you improve on the following tokeniser? In doing so you might need to extend your knowledge of regular expressions and employ one of the special characters included here: https://www.dataquest.io/wp-content/uploads/2019/03/python-regular-expressions-cheat-sheet.pdf\n"
      ]
    },
    {
      "cell_type": "code",
      "execution_count": null,
      "id": "5543015b",
      "metadata": {
        "id": "5543015b"
      },
      "outputs": [],
      "source": [
        "to_split_on_word = re.compile(\" \")\n",
        "opening_sentence_new = to_split_on_word.split(opening_sentence)\n",
        "print(opening_sentence_new)"
      ]
    },
    {
      "cell_type": "markdown",
      "id": "9cb5bc5b",
      "metadata": {
        "id": "9cb5bc5b"
      },
      "source": [
        "# Sentence Segmentation"
      ]
    },
    {
      "cell_type": "markdown",
      "id": "48df58a8",
      "metadata": {
        "id": "48df58a8"
      },
      "source": [
        "Above we split a sentence into words. However most texts that we want to process have more than one sentence, so we also need to segment text into sentences. We will work with the first chapter of Crime and Punishment again"
      ]
    },
    {
      "cell_type": "code",
      "execution_count": null,
      "id": "4a1dd2b7",
      "metadata": {
        "id": "4a1dd2b7"
      },
      "outputs": [],
      "source": [
        "from io import RawIOBase\n",
        "!wget https://www.gutenberg.org/files/2554/2554-0.txt\n",
        "f = open('2554-0.txt')\n",
        "raw= f.read()\n",
        "chapter_one = raw[5464:23725]\n",
        "chapter_one = re.sub('\\n',' ',chapter_one)"
      ]
    },
    {
      "cell_type": "markdown",
      "id": "b0f08861",
      "metadata": {
        "id": "b0f08861"
      },
      "source": [
        "Just as for segmenting sentences into words, we can segment texts into sentence using the re.split function. If you run the code below you will get a list of words. What pattern could we use to get a list of sentences? Clue: you might want to use an re.sub statement to transform the input before splitting."
      ]
    },
    {
      "cell_type": "code",
      "execution_count": null,
      "id": "da8d3567",
      "metadata": {
        "id": "da8d3567"
      },
      "outputs": [],
      "source": [
        "to_split_on_sent = re.compile(\" \")\n",
        "C_and_P_sentences = to_split_on_sent.split(chapter_one)\n",
        "print(C_and_P_sentences)"
      ]
    },
    {
      "cell_type": "markdown",
      "id": "SrlRLk386H3C",
      "metadata": {
        "id": "SrlRLk386H3C"
      },
      "source": [
        "## Natural Language Toolkit"
      ]
    },
    {
      "cell_type": "markdown",
      "id": "0_7dXjcU6NPS",
      "metadata": {
        "id": "0_7dXjcU6NPS"
      },
      "source": [
        "So far we have looked at the core Python programming language and the re library. However much of the time this semester we will be making use of even more  powerful libraries for natural language processing and machine learning. Today we will make use of a few of these. The first of is \"Natural Language Toolkit\" or nltk (http://www.nltk.org/).\n",
        "\n",
        "The first thing we need to do is to make sure we have the libraries we want installed. On Google Colab they are all already there. If your are using your own machine you will have to install it using the following command (unlike for re which is present by default and just needs to be loaded).\n"
      ]
    },
    {
      "cell_type": "markdown",
      "id": "XeveyQ1U6ZAb",
      "metadata": {
        "id": "XeveyQ1U6ZAb"
      },
      "source": [
        "In order to use the library we then need to import it"
      ]
    },
    {
      "cell_type": "code",
      "execution_count": null,
      "id": "1OjPJnkF6b_j",
      "metadata": {
        "id": "1OjPJnkF6b_j"
      },
      "outputs": [],
      "source": [
        "import nltk"
      ]
    },
    {
      "cell_type": "markdown",
      "id": "kaDajLqB6fWJ",
      "metadata": {
        "id": "kaDajLqB6fWJ"
      },
      "source": [
        "### Tokenising"
      ]
    },
    {
      "cell_type": "code",
      "execution_count": null,
      "id": "S7ENRnXE6r28",
      "metadata": {
        "id": "S7ENRnXE6r28"
      },
      "outputs": [],
      "source": [
        "nltk.download('punkt_tab')\n",
        "chapter_one_tokens = nltk.word_tokenize(chapter_one)\n",
        "print(chapter_one_tokens)"
      ]
    },
    {
      "cell_type": "markdown",
      "id": "ohWHhhsL6386",
      "metadata": {
        "id": "ohWHhhsL6386"
      },
      "source": [
        "### Sentence Segmentation"
      ]
    },
    {
      "cell_type": "code",
      "execution_count": null,
      "id": "xIBnBecI67FI",
      "metadata": {
        "id": "xIBnBecI67FI"
      },
      "outputs": [],
      "source": [
        "chapter_one_sentences = nltk.sent_tokenize(' '.join(chapter_one_tokens))\n",
        "print(chapter_one_sentences[1])"
      ]
    },
    {
      "cell_type": "markdown",
      "id": "PUAqbWbK6_af",
      "metadata": {
        "id": "PUAqbWbK6_af"
      },
      "source": [
        "### Stemming"
      ]
    },
    {
      "cell_type": "code",
      "execution_count": null,
      "id": "1-x4wwnn6_3I",
      "metadata": {
        "id": "1-x4wwnn6_3I"
      },
      "outputs": [],
      "source": [
        "porter = nltk.PorterStemmer()\n",
        "for t in chapter_one_tokens:\n",
        "    print(porter.stem(t),end=\" \")"
      ]
    },
    {
      "cell_type": "markdown",
      "id": "ApCEr2dc7D47",
      "metadata": {
        "id": "ApCEr2dc7D47"
      },
      "source": [
        "### Lemmatising"
      ]
    },
    {
      "cell_type": "code",
      "execution_count": null,
      "id": "HB6ESeQZ7EaR",
      "metadata": {
        "id": "HB6ESeQZ7EaR"
      },
      "outputs": [],
      "source": [
        "nltk.download('wordnet')\n",
        "wnl = nltk.WordNetLemmatizer()\n",
        "for t in chapter_one_tokens:\n",
        "    print(wnl.lemmatize(t),end=\" \")"
      ]
    },
    {
      "cell_type": "markdown",
      "id": "l1ijQKCx7HwX",
      "metadata": {
        "id": "l1ijQKCx7HwX"
      },
      "source": [
        "# Vector semantics"
      ]
    },
    {
      "cell_type": "markdown",
      "id": "5BsrFJSs7IXp",
      "metadata": {
        "id": "5BsrFJSs7IXp"
      },
      "source": [
        "In this week's lecture you heard about Vector-based semantics. Today we will take a look at these models in Python.\n",
        "\n",
        "First we will use nltk to segment and tokenize the whole of Crime and Punishment."
      ]
    },
    {
      "cell_type": "code",
      "execution_count": null,
      "id": "VKgZMdQ_7UbA",
      "metadata": {
        "id": "VKgZMdQ_7UbA"
      },
      "outputs": [],
      "source": [
        "C_and_P_tokens_sentences = []\n",
        "for sent in nltk.sent_tokenize(raw):\n",
        "    C_and_P_tokens_sentences.append(nltk.word_tokenize(sent))"
      ]
    },
    {
      "cell_type": "markdown",
      "id": "QRf6Fbn97WZl",
      "metadata": {
        "id": "QRf6Fbn97WZl"
      },
      "source": [
        "Next we will build a cooccurence matrix using the following code. The purpose of this is to aid your conceptual understanding by looking at the output, and you aren't expected to read or understand this code. Although if you come back to it later in the semester you may well be able to figure it out"
      ]
    },
    {
      "cell_type": "code",
      "source": [
        "import numpy as np\n",
        "c_and_p=C_and_P_tokens_sentences\n",
        "c_and_p = [x for l in c_and_p for x in l]\n",
        "token_count = len(c_and_p)\n",
        "type_list = list(set(c_and_p))\n",
        "# The type count is the number of unique words. The token count is the total number of words including repetitions.\n",
        "type_count = len(type_list)\n",
        "# We create a matrix in which to store the counts for each word-by-word co-occurence\n",
        "M = np.zeros((type_count, type_count))\n",
        "window_size = 2\n",
        "\n",
        "for i, word in enumerate(c_and_p):\n",
        "            #print(str(i) + word)\n",
        "            # Find the index in the tokenized sentence vector for the beginning of the window (the current token minus window size or zero whichever is the lower)\n",
        "            begin = max(i - window_size, 0)\n",
        "            # Find the index in the tokenized sentence vector for the end of the window (the current token plus window size or the length of the sentence whichever is the lower)\n",
        "            end  = min(i + window_size, token_count)\n",
        "            # Extract the text from beginning of window to the end\n",
        "            context = c_and_p[begin: end + 1]\n",
        "            # Remove the target word from its own window\n",
        "            context.remove(c_and_p[i])\n",
        "            # Find the row for the current target word\n",
        "            current_row = type_list.index(c_and_p[i])\n",
        "            # Iterate over the window for this target word\n",
        "            for token in context:\n",
        "                # Find the ID and hence the column index for the current token\n",
        "                current_col = type_list.index(token)\n",
        "                # Add 1 to the current context word dimension for the current target word\n",
        "                M[current_row, current_col] += 1"
      ],
      "metadata": {
        "id": "iDK8ktJkrWh9"
      },
      "id": "iDK8ktJkrWh9",
      "execution_count": null,
      "outputs": []
    },
    {
      "cell_type": "code",
      "source": [
        "def cosine(a,b):\n",
        "  return(np.dot(a,b)/(np.linalg.norm(a)*np.linalg.norm(b)))"
      ],
      "metadata": {
        "id": "HLZ0LnbUyBjH"
      },
      "id": "HLZ0LnbUyBjH",
      "execution_count": null,
      "outputs": []
    },
    {
      "cell_type": "code",
      "source": [
        "import numpy as np\n",
        "w1 = \"walk\"\n",
        "w2 = \"run\"\n",
        "w3 = \"shine\"\n",
        "w1_index = type_list.index(w1)\n",
        "w2_index = type_list.index(w2)\n",
        "w3_index = type_list.index(w3)\n",
        "w1_vec=M[type_list.index(w1),]\n",
        "w2_vec=M[type_list.index(w2),]\n",
        "w3_vec=M[type_list.index(w3),]\n"
      ],
      "metadata": {
        "id": "ADR14jaUrvbF"
      },
      "id": "ADR14jaUrvbF",
      "execution_count": null,
      "outputs": []
    },
    {
      "cell_type": "code",
      "source": [
        "cosine(w1_vec,w2_vec)"
      ],
      "metadata": {
        "id": "r7OHB2XgwpW4"
      },
      "id": "r7OHB2XgwpW4",
      "execution_count": null,
      "outputs": []
    },
    {
      "cell_type": "markdown",
      "source": [
        "### Pretrained embeddings\n",
        "\n",
        "Vectors are best when learned from very large text collections. However learning such vectors, particular using neural network methods rather than simple counting, is very computationally intensive. As a result most people make use of pretrained embeddings such as those found at\n",
        "\n",
        "https://code.google.com/archive/p/word2vec/\n",
        "\n",
        "or\n",
        "\n",
        "https://nlp.stanford.edu/projects/glove/"
      ],
      "metadata": {
        "id": "G20YY35vjV53"
      },
      "id": "G20YY35vjV53"
    },
    {
      "cell_type": "code",
      "source": [
        "!wget http://nlp.stanford.edu/data/glove.6B.zip\n",
        "!unzip -q glove.6B.zip"
      ],
      "metadata": {
        "id": "0z2ZU1KzaFWQ"
      },
      "execution_count": null,
      "outputs": [],
      "id": "0z2ZU1KzaFWQ"
    },
    {
      "cell_type": "code",
      "source": [
        "import numpy as np\n",
        "embedding_file = 'glove.6B.100d.txt'\n",
        "#embedding_file = f.read()\n",
        "embeddings=[]\n",
        "type_list=[]\n",
        "with open(embedding_file) as fp:\n",
        "            for line in fp.readlines():\n",
        "                line = line.split(\" \")\n",
        "                word = line[0]\n",
        "                vec = np.array([float(x) for x in line[1:]])\n",
        "                type_list.append(word)\n",
        "                embeddings.append(vec)\n",
        "M=np.array((embeddings))"
      ],
      "metadata": {
        "id": "grtFYZDcfrvZ"
      },
      "execution_count": null,
      "outputs": [],
      "id": "grtFYZDcfrvZ"
    },
    {
      "cell_type": "code",
      "source": [
        "w1 = \"football\"\n",
        "w2 = \"rugby\"\n",
        "w3 = \"cricket\"\n",
        "w1_index = type_list.index(w1)\n",
        "w2_index = type_list.index(w2)\n",
        "w3_index = type_list.index(w3)\n",
        "w1_vec=M[w1_index,]\n",
        "w2_vec=M[w2_index,]\n",
        "w3_vec=M[w3_index,]"
      ],
      "metadata": {
        "id": "P190dF8Kq3VW"
      },
      "execution_count": null,
      "outputs": [],
      "id": "P190dF8Kq3VW"
    },
    {
      "cell_type": "code",
      "source": [
        "cosine(w1_vec,w2_vec)"
      ],
      "metadata": {
        "id": "M2JGAiHt9Y76"
      },
      "id": "M2JGAiHt9Y76",
      "execution_count": null,
      "outputs": []
    },
    {
      "cell_type": "code",
      "source": [
        "cosine(w1_vec,w3_vec)"
      ],
      "metadata": {
        "id": "EWE3Zx0M9ZSD"
      },
      "id": "EWE3Zx0M9ZSD",
      "execution_count": null,
      "outputs": []
    },
    {
      "cell_type": "code",
      "source": [
        "cosine(w2_vec,w3_vec)"
      ],
      "metadata": {
        "id": "fzhWBHyY9dte"
      },
      "id": "fzhWBHyY9dte",
      "execution_count": null,
      "outputs": []
    },
    {
      "cell_type": "markdown",
      "source": [
        "Problem 1. Calculate the cosine between the words above. What do the cosine values tell us?"
      ],
      "metadata": {
        "id": "6WYSDJLF7h2l"
      },
      "id": "6WYSDJLF7h2l"
    },
    {
      "cell_type": "markdown",
      "source": [
        "# Finding the most similar words\n",
        "\n",
        "One thing we often want to do is to find the most similar words to a given word/vector. An exhaustive N x N comparison is very time consuming, and so we can make use of an efficient \"nearest neighbours\" finding algorithm. We are just using this algorithm here so we won't go into it in any detail."
      ],
      "metadata": {
        "id": "1b6fOj5BTFjn"
      },
      "id": "1b6fOj5BTFjn"
    },
    {
      "cell_type": "code",
      "source": [
        "from sklearn.neighbors import NearestNeighbors\n",
        "nbrs = NearestNeighbors(n_neighbors=5, algorithm='ball_tree').fit(M)"
      ],
      "metadata": {
        "id": "gutnPC3Dv-KV"
      },
      "execution_count": null,
      "outputs": [],
      "id": "gutnPC3Dv-KV"
    },
    {
      "cell_type": "code",
      "source": [
        "w=\"football\"\n",
        "w_index = type_list.index(w)\n",
        "w_vec = M[w_index,]\n",
        "for i in nbrs.kneighbors([w_vec])[1][0]:\n",
        "  print(type_list[i])"
      ],
      "metadata": {
        "id": "kgcxDOU70gYO"
      },
      "execution_count": null,
      "outputs": [],
      "id": "kgcxDOU70gYO"
    },
    {
      "cell_type": "markdown",
      "source": [
        "Problem 4. Find some examples where the system fails and explain why you think it has done so."
      ],
      "metadata": {
        "id": "144-ZuZ37R9L"
      },
      "id": "144-ZuZ37R9L"
    },
    {
      "cell_type": "markdown",
      "source": [
        "### Analogical reasoning"
      ],
      "metadata": {
        "id": "3U1nSPzz6637"
      },
      "id": "3U1nSPzz6637"
    },
    {
      "cell_type": "markdown",
      "metadata": {
        "id": "I80Hq6i6sZZj"
      },
      "source": [
        "Another semantic property of embeddings is their ability to capture relational meanings. In an important early vector space model of cognition, Rumelhart and Abrahamson (1973) proposed the parallelogram model for solving simple analogy problems of the form a is to b as a* is to what?. In such problems, a system given a problem like apple:tree::grape:?, i.e., apple is to tree as  grape is to , and must fill in the word vine.\n",
        "\n",
        "In the parallelogram model, the vector from the word apple to the word tree (= tree − apple) is added to the vector for grape (grape); the nearest word to that point is returned.\n",
        "\n",
        "\n",
        "\n"
      ],
      "id": "I80Hq6i6sZZj"
    },
    {
      "cell_type": "code",
      "execution_count": null,
      "metadata": {
        "id": "rulVu7_dsZZj"
      },
      "outputs": [],
      "source": [
        "w1 = \"apple\"\n",
        "w2 = \"tree\"\n",
        "w3 = \"grape\"\n",
        "w1_index = type_list.index(w1)\n",
        "w2_index = type_list.index(w2)\n",
        "w3_index = type_list.index(w3)\n",
        "w1_vec = M[w1_index,]\n",
        "w2_vec = M[w2_index,]\n",
        "w3_vec = M[w3_index,]\n",
        "\n",
        "spatial_relationship = w2_vec - w1_vec\n",
        "w4_vec = w3_vec + spatial_relationship\n",
        "\n",
        "nbrs.kneighbors([w4_vec])\n",
        "for i in nbrs.kneighbors([w4_vec])[1][0]:\n",
        "  print(type_list[i])"
      ],
      "id": "rulVu7_dsZZj"
    },
    {
      "cell_type": "markdown",
      "source": [
        "Problem 4: Come up with a analogical reasoning problem of your own and use the code to solve it."
      ],
      "metadata": {
        "id": "cJ3PFSNh_XkH"
      },
      "id": "cJ3PFSNh_XkH"
    }
  ],
  "metadata": {
    "colab": {
      "provenance": []
    },
    "kernelspec": {
      "display_name": "Python 3",
      "language": "python",
      "name": "python3"
    },
    "language_info": {
      "codemirror_mode": {
        "name": "ipython",
        "version": 3
      },
      "file_extension": ".py",
      "mimetype": "text/x-python",
      "name": "python",
      "nbconvert_exporter": "python",
      "pygments_lexer": "ipython3",
      "version": "3.9.6"
    }
  },
  "nbformat": 4,
  "nbformat_minor": 5
}