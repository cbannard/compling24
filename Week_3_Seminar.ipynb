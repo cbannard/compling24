{
  "cells": [
    {
      "cell_type": "markdown",
      "id": "ada7675f",
      "metadata": {
        "id": "ada7675f"
      },
      "source": [
        "# LELA32052 Computational Linguistics Week 3"
      ]
    },
    {
      "cell_type": "code",
      "execution_count": 1,
      "id": "ede3dfeb",
      "metadata": {
        "id": "ede3dfeb"
      },
      "outputs": [],
      "source": [
        "import re"
      ]
    },
    {
      "cell_type": "markdown",
      "id": "f508cffb",
      "metadata": {
        "id": "f508cffb"
      },
      "source": [
        "### Escaping special characters\n",
        "We have learned about a number of character that have a special meaning in regular expressions (periods, dollar signs etc). We might sometimes want to search for these characters in strings. To do this we can \"escape\" the character using a backslash() as follows:\n"
      ]
    },
    {
      "cell_type": "code",
      "execution_count": 2,
      "id": "02871a24",
      "metadata": {
        "id": "02871a24",
        "outputId": "837b5742-5519-4bb7-db1c-8ede47b80109",
        "colab": {
          "base_uri": "https://localhost:8080/"
        }
      },
      "outputs": [
        {
          "output_type": "execute_result",
          "data": {
            "text/plain": [
              "['.', '.', '.']"
            ]
          },
          "metadata": {},
          "execution_count": 2
        }
      ],
      "source": [
        "opening_sentence = \"On an exceptionally hot evening early in July a young man came out of the garret in which he lodged in S. Place and walked slowly, as though in hesitation, towards K. bridge.\"\n",
        "re.findall(\"\\.\",opening_sentence)"
      ]
    },
    {
      "cell_type": "markdown",
      "id": "f53a7a48",
      "metadata": {
        "id": "f53a7a48"
      },
      "source": [
        "### re.split()\n",
        "In week 1 we learned to tokenise a string using the string function split. re also has a split function. re.split() takes a regular expression as a first argument (unless you have a precompiled pattern) and a string as second argument, and split the string into tokens divided by all substrings matched by the regular expression.\n",
        "Can you improve on the following tokeniser? In doing so you might need to extend your knowledge of regular expressions and employ one of the special characters included here: https://www.dataquest.io/wp-content/uploads/2019/03/python-regular-expressions-cheat-sheet.pdf\n"
      ]
    },
    {
      "cell_type": "code",
      "execution_count": 3,
      "id": "5543015b",
      "metadata": {
        "id": "5543015b",
        "outputId": "87eb3ad2-4283-4528-de6c-f9cf2f816f26",
        "colab": {
          "base_uri": "https://localhost:8080/"
        }
      },
      "outputs": [
        {
          "output_type": "stream",
          "name": "stdout",
          "text": [
            "['On', 'an', 'exceptionally', 'hot', 'evening', 'early', 'in', 'July', 'a', 'young', 'man', 'came', 'out', 'of', 'the', 'garret', 'in', 'which', 'he', 'lodged', 'in', 'S.', 'Place', 'and', 'walked', 'slowly,', 'as', 'though', 'in', 'hesitation,', 'towards', 'K.', 'bridge.']\n"
          ]
        }
      ],
      "source": [
        "to_split_on_word = re.compile(\" \")\n",
        "opening_sentence_new = to_split_on_word.split(opening_sentence)\n",
        "print(opening_sentence_new)"
      ]
    },
    {
      "cell_type": "markdown",
      "id": "9cb5bc5b",
      "metadata": {
        "id": "9cb5bc5b"
      },
      "source": [
        "# Sentence Segmentation"
      ]
    },
    {
      "cell_type": "markdown",
      "id": "48df58a8",
      "metadata": {
        "id": "48df58a8"
      },
      "source": [
        "Above we split a sentence into words. However most texts that we want to process have more than one sentence, so we also need to segment text into sentences. We will work with the first chapter of Crime and Punishment again"
      ]
    },
    {
      "cell_type": "code",
      "execution_count": 4,
      "id": "4a1dd2b7",
      "metadata": {
        "id": "4a1dd2b7",
        "outputId": "582cfdbe-17c2-4b0e-8344-6d4ecf0fcc27",
        "colab": {
          "base_uri": "https://localhost:8080/"
        }
      },
      "outputs": [
        {
          "output_type": "stream",
          "name": "stdout",
          "text": [
            "--2025-02-11 07:57:26--  https://www.gutenberg.org/files/2554/2554-0.txt\n",
            "Resolving www.gutenberg.org (www.gutenberg.org)... 152.19.134.47, 2610:28:3090:3000:0:bad:cafe:47\n",
            "Connecting to www.gutenberg.org (www.gutenberg.org)|152.19.134.47|:443... connected.\n",
            "HTTP request sent, awaiting response... 200 OK\n",
            "Length: 1159924 (1.1M) [text/plain]\n",
            "Saving to: ‘2554-0.txt’\n",
            "\n",
            "2554-0.txt          100%[===================>]   1.11M  6.85MB/s    in 0.2s    \n",
            "\n",
            "2025-02-11 07:57:26 (6.85 MB/s) - ‘2554-0.txt’ saved [1159924/1159924]\n",
            "\n"
          ]
        }
      ],
      "source": [
        "from io import RawIOBase\n",
        "!wget https://www.gutenberg.org/files/2554/2554-0.txt\n",
        "f = open('2554-0.txt')\n",
        "raw= f.read()\n",
        "chapter_one = raw[5464:23725]\n",
        "chapter_one = re.sub('\\n',' ',chapter_one)"
      ]
    },
    {
      "cell_type": "markdown",
      "id": "b0f08861",
      "metadata": {
        "id": "b0f08861"
      },
      "source": [
        "Just as for segmenting sentences into words, we can segment texts into sentence using the re.split function. If you run the code below you will get a list of words. What pattern could we use to get a list of sentences? Clue: you might want to use an re.sub statement to transform the input before splitting."
      ]
    },
    {
      "cell_type": "code",
      "execution_count": 5,
      "id": "da8d3567",
      "metadata": {
        "id": "da8d3567",
        "outputId": "eff2a80b-d838-4781-a252-4e1acd1a8ba7",
        "colab": {
          "base_uri": "https://localhost:8080/"
        }
      },
      "outputs": [
        {
          "output_type": "stream",
          "name": "stdout",
          "text": [
            "['some', 'time', 'past', 'he', 'had', 'been', 'in', 'an', 'overstrained', 'irritable', 'condition,', 'verging', 'on', 'hypochondria.', 'He', 'had', 'become', 'so', 'completely', 'absorbed', 'in', 'himself,', 'and', 'isolated', 'from', 'his', 'fellows', 'that', 'he', 'dreaded', 'meeting,', 'not', 'only', 'his', 'landlady,', 'but', 'anyone', 'at', 'all.', 'He', 'was', 'crushed', 'by', 'poverty,', 'but', 'the', 'anxieties', 'of', 'his', 'position', 'had', 'of', 'late', 'ceased', 'to', 'weigh', 'upon', 'him.', 'He', 'had', 'given', 'up', 'attending', 'to', 'matters', 'of', 'practical', 'importance;', 'he', 'had', 'lost', 'all', 'desire', 'to', 'do', 'so.', 'Nothing', 'that', 'any', 'landlady', 'could', 'do', 'had', 'a', 'real', 'terror', 'for', 'him.', 'But', 'to', 'be', 'stopped', 'on', 'the', 'stairs,', 'to', 'be', 'forced', 'to', 'listen', 'to', 'her', 'trivial,', 'irrelevant', 'gossip,', 'to', 'pestering', 'demands', 'for', 'payment,', 'threats', 'and', 'complaints,', 'and', 'to', 'rack', 'his', 'brains', 'for', 'excuses,', 'to', 'prevaricate,', 'to', 'lie--no,', 'rather', 'than', 'that,', 'he', 'would', 'creep', 'down', 'the', 'stairs', 'like', 'a', 'cat', 'and', 'slip', 'out', 'unseen.', '', 'This', 'evening,', 'however,', 'on', 'coming', 'out', 'into', 'the', 'street,', 'he', 'became', 'acutely', 'aware', 'of', 'his', 'fears.', '', '“I', 'want', 'to', 'attempt', 'a', 'thing', '_like', 'that_', 'and', 'am', 'frightened', 'by', 'these', 'trifles,”', 'he', 'thought,', 'with', 'an', 'odd', 'smile.', '“Hm...', 'yes,', 'all', 'is', 'in', 'a', 'man’s', 'hands', 'and', 'he', 'lets', 'it', 'all', 'slip', 'from', 'cowardice,', 'that’s', 'an', 'axiom.', 'It', 'would', 'be', 'interesting', 'to', 'know', 'what', 'it', 'is', 'men', 'are', 'most', 'afraid', 'of.', 'Taking', 'a', 'new', 'step,', 'uttering', 'a', 'new', 'word', 'is', 'what', 'they', 'fear', 'most....', 'But', 'I', 'am', 'talking', 'too', 'much.', 'It’s', 'because', 'I', 'chatter', 'that', 'I', 'do', 'nothing.', 'Or', 'perhaps', 'it', 'is', 'that', 'I', 'chatter', 'because', 'I', 'do', 'nothing.', 'I’ve', 'learned', 'to', 'chatter', 'this', 'last', 'month,', 'lying', 'for', 'days', 'together', 'in', 'my', 'den', 'thinking...', 'of', 'Jack', 'the', 'Giant-killer.', 'Why', 'am', 'I', 'going', 'there', 'now?', 'Am', 'I', 'capable', 'of', '_that_?', 'Is', '_that_', 'serious?', 'It', 'is', 'not', 'serious', 'at', 'all.', 'It’s', 'simply', 'a', 'fantasy', 'to', 'amuse', 'myself;', 'a', 'plaything!', 'Yes,', 'maybe', 'it', 'is', 'a', 'plaything.”', '', 'The', 'heat', 'in', 'the', 'street', 'was', 'terrible:', 'and', 'the', 'airlessness,', 'the', 'bustle', 'and', 'the', 'plaster,', 'scaffolding,', 'bricks,', 'and', 'dust', 'all', 'about', 'him,', 'and', 'that', 'special', 'Petersburg', 'stench,', 'so', 'familiar', 'to', 'all', 'who', 'are', 'unable', 'to', 'get', 'out', 'of', 'town', 'in', 'summer--all', 'worked', 'painfully', 'upon', 'the', 'young', 'man’s', 'already', 'overwrought', 'nerves.', 'The', 'insufferable', 'stench', 'from', 'the', 'pot-houses,', 'which', 'are', 'particularly', 'numerous', 'in', 'that', 'part', 'of', 'the', 'town,', 'and', 'the', 'drunken', 'men', 'whom', 'he', 'met', 'continually,', 'although', 'it', 'was', 'a', 'working', 'day,', 'completed', 'the', 'revolting', 'misery', 'of', 'the', 'picture.', 'An', 'expression', 'of', 'the', 'profoundest', 'disgust', 'gleamed', 'for', 'a', 'moment', 'in', 'the', 'young', 'man’s', 'refined', 'face.', 'He', 'was,', 'by', 'the', 'way,', 'exceptionally', 'handsome,', 'above', 'the', 'average', 'in', 'height,', 'slim,', 'well-built,', 'with', 'beautiful', 'dark', 'eyes', 'and', 'dark', 'brown', 'hair.', 'Soon', 'he', 'sank', 'into', 'deep', 'thought,', 'or', 'more', 'accurately', 'speaking', 'into', 'a', 'complete', 'blankness', 'of', 'mind;', 'he', 'walked', 'along', 'not', 'observing', 'what', 'was', 'about', 'him', 'and', 'not', 'caring', 'to', 'observe', 'it.', 'From', 'time', 'to', 'time,', 'he', 'would', 'mutter', 'something,', 'from', 'the', 'habit', 'of', 'talking', 'to', 'himself,', 'to', 'which', 'he', 'had', 'just', 'confessed.', 'At', 'these', 'moments', 'he', 'would', 'become', 'conscious', 'that', 'his', 'ideas', 'were', 'sometimes', 'in', 'a', 'tangle', 'and', 'that', 'he', 'was', 'very', 'weak;', 'for', 'two', 'days', 'he', 'had', 'scarcely', 'tasted', 'food.', '', 'He', 'was', 'so', 'badly', 'dressed', 'that', 'even', 'a', 'man', 'accustomed', 'to', 'shabbiness', 'would', 'have', 'been', 'ashamed', 'to', 'be', 'seen', 'in', 'the', 'street', 'in', 'such', 'rags.', 'In', 'that', 'quarter', 'of', 'the', 'town,', 'however,', 'scarcely', 'any', 'shortcoming', 'in', 'dress', 'would', 'have', 'created', 'surprise.', 'Owing', 'to', 'the', 'proximity', 'of', 'the', 'Hay', 'Market,', 'the', 'number', 'of', 'establishments', 'of', 'bad', 'character,', 'the', 'preponderance', 'of', 'the', 'trading', 'and', 'working', 'class', 'population', 'crowded', 'in', 'these', 'streets', 'and', 'alleys', 'in', 'the', 'heart', 'of', 'Petersburg,', 'types', 'so', 'various', 'were', 'to', 'be', 'seen', 'in', 'the', 'streets', 'that', 'no', 'figure,', 'however', 'queer,', 'would', 'have', 'caused', 'surprise.', 'But', 'there', 'was', 'such', 'accumulated', 'bitterness', 'and', 'contempt', 'in', 'the', 'young', 'man’s', 'heart,', 'that,', 'in', 'spite', 'of', 'all', 'the', 'fastidiousness', 'of', 'youth,', 'he', 'minded', 'his', 'rags', 'least', 'of', 'all', 'in', 'the', 'street.', 'It', 'was', 'a', 'different', 'matter', 'when', 'he', 'met', 'with', 'acquaintances', 'or', 'with', 'former', 'fellow', 'students,', 'whom,', 'indeed,', 'he', 'disliked', 'meeting', 'at', 'any', 'time.', 'And', 'yet', 'when', 'a', 'drunken', 'man', 'who,', 'for', 'some', 'unknown', 'reason,', 'was', 'being', 'taken', 'somewhere', 'in', 'a', 'huge', 'waggon', 'dragged', 'by', 'a', 'heavy', 'dray', 'horse,', 'suddenly', 'shouted', 'at', 'him', 'as', 'he', 'drove', 'past:', '“Hey', 'there,', 'German', 'hatter”', 'bawling', 'at', 'the', 'top', 'of', 'his', 'voice', 'and', 'pointing', 'at', 'him--the', 'young', 'man', 'stopped', 'suddenly', 'and', 'clutched', 'tremulously', 'at', 'his', 'hat.', 'It', 'was', 'a', 'tall', 'round', 'hat', 'from', 'Zimmerman’s,', 'but', 'completely', 'worn', 'out,', 'rusty', 'with', 'age,', 'all', 'torn', 'and', 'bespattered,', 'brimless', 'and', 'bent', 'on', 'one', 'side', 'in', 'a', 'most', 'unseemly', 'fashion.', 'Not', 'shame,', 'however,', 'but', 'quite', 'another', 'feeling', 'akin', 'to', 'terror', 'had', 'overtaken', 'him.', '', '“I', 'knew', 'it,”', 'he', 'muttered', 'in', 'confusion,', '“I', 'thought', 'so!', 'That’s', 'the', 'worst', 'of', 'all!', 'Why,', 'a', 'stupid', 'thing', 'like', 'this,', 'the', 'most', 'trivial', 'detail', 'might', 'spoil', 'the', 'whole', 'plan.', 'Yes,', 'my', 'hat', 'is', 'too', 'noticeable....', 'It', 'looks', 'absurd', 'and', 'that', 'makes', 'it', 'noticeable....', 'With', 'my', 'rags', 'I', 'ought', 'to', 'wear', 'a', 'cap,', 'any', 'sort', 'of', 'old', 'pancake,', 'but', 'not', 'this', 'grotesque', 'thing.', 'Nobody', 'wears', 'such', 'a', 'hat,', 'it', 'would', 'be', 'noticed', 'a', 'mile', 'off,', 'it', 'would', 'be', 'remembered....', 'What', 'matters', 'is', 'that', 'people', 'would', 'remember', 'it,', 'and', 'that', 'would', 'give', 'them', 'a', 'clue.', 'For', 'this', 'business', 'one', 'should', 'be', 'as', 'little', 'conspicuous', 'as', 'possible....', 'Trifles,', 'trifles', 'are', 'what', 'matter!', 'Why,', 'it’s', 'just', 'such', 'trifles', 'that', 'always', 'ruin', 'everything....”', '', 'He', 'had', 'not', 'far', 'to', 'go;', 'he', 'knew', 'indeed', 'how', 'many', 'steps', 'it', 'was', 'from', 'the', 'gate', 'of', 'his', 'lodging', 'house:', 'exactly', 'seven', 'hundred', 'and', 'thirty.', 'He', 'had', 'counted', 'them', 'once', 'when', 'he', 'had', 'been', 'lost', 'in', 'dreams.', 'At', 'the', 'time', 'he', 'had', 'put', 'no', 'faith', 'in', 'those', 'dreams', 'and', 'was', 'only', 'tantalising', 'himself', 'by', 'their', 'hideous', 'but', 'daring', 'recklessness.', 'Now,', 'a', 'month', 'later,', 'he', 'had', 'begun', 'to', 'look', 'upon', 'them', 'differently,', 'and,', 'in', 'spite', 'of', 'the', 'monologues', 'in', 'which', 'he', 'jeered', 'at', 'his', 'own', 'impotence', 'and', 'indecision,', 'he', 'had', 'involuntarily', 'come', 'to', 'regard', 'this', '“hideous”', 'dream', 'as', 'an', 'exploit', 'to', 'be', 'attempted,', 'although', 'he', 'still', 'did', 'not', 'realise', 'this', 'himself.', 'He', 'was', 'positively', 'going', 'now', 'for', 'a', '“rehearsal”', 'of', 'his', 'project,', 'and', 'at', 'every', 'step', 'his', 'excitement', 'grew', 'more', 'and', 'more', 'violent.', '', 'With', 'a', 'sinking', 'heart', 'and', 'a', 'nervous', 'tremor,', 'he', 'went', 'up', 'to', 'a', 'huge', 'house', 'which', 'on', 'one', 'side', 'looked', 'on', 'to', 'the', 'canal,', 'and', 'on', 'the', 'other', 'into', 'the', 'street.', 'This', 'house', 'was', 'let', 'out', 'in', 'tiny', 'tenements', 'and', 'was', 'inhabited', 'by', 'working', 'people', 'of', 'all', 'kinds--tailors,', 'locksmiths,', 'cooks,', 'Germans', 'of', 'sorts,', 'girls', 'picking', 'up', 'a', 'living', 'as', 'best', 'they', 'could,', 'petty', 'clerks,', 'etc.', 'There', 'was', 'a', 'continual', 'coming', 'and', 'going', 'through', 'the', 'two', 'gates', 'and', 'in', 'the', 'two', 'courtyards', 'of', 'the', 'house.', 'Three', 'or', 'four', 'door-keepers', 'were', 'employed', 'on', 'the', 'building.', 'The', 'young', 'man', 'was', 'very', 'glad', 'to', 'meet', 'none', 'of', 'them,', 'and', 'at', 'once', 'slipped', 'unnoticed', 'through', 'the', 'door', 'on', 'the', 'right,', 'and', 'up', 'the', 'staircase.', 'It', 'was', 'a', 'back', 'staircase,', 'dark', 'and', 'narrow,', 'but', 'he', 'was', 'familiar', 'with', 'it', 'already,', 'and', 'knew', 'his', 'way,', 'and', 'he', 'liked', 'all', 'these', 'surroundings:', 'in', 'such', 'darkness', 'even', 'the', 'most', 'inquisitive', 'eyes', 'were', 'not', 'to', 'be', 'dreaded.', '', '“If', 'I', 'am', 'so', 'scared', 'now,', 'what', 'would', 'it', 'be', 'if', 'it', 'somehow', 'came', 'to', 'pass', 'that', 'I', 'were', 'really', 'going', 'to', 'do', 'it?”', 'he', 'could', 'not', 'help', 'asking', 'himself', 'as', 'he', 'reached', 'the', 'fourth', 'storey.', 'There', 'his', 'progress', 'was', 'barred', 'by', 'some', 'porters', 'who', 'were', 'engaged', 'in', 'moving', 'furniture', 'out', 'of', 'a', 'flat.', 'He', 'knew', 'that', 'the', 'flat', 'had', 'been', 'occupied', 'by', 'a', 'German', 'clerk', 'in', 'the', 'civil', 'service,', 'and', 'his', 'family.', 'This', 'German', 'was', 'moving', 'out', 'then,', 'and', 'so', 'the', 'fourth', 'floor', 'on', 'this', 'staircase', 'would', 'be', 'untenanted', 'except', 'by', 'the', 'old', 'woman.', '“That’s', 'a', 'good', 'thing', 'anyway,”', 'he', 'thought', 'to', 'himself,', 'as', 'he', 'rang', 'the', 'bell', 'of', 'the', 'old', 'woman’s', 'flat.', 'The', 'bell', 'gave', 'a', 'faint', 'tinkle', 'as', 'though', 'it', 'were', 'made', 'of', 'tin', 'and', 'not', 'of', 'copper.', 'The', 'little', 'flats', 'in', 'such', 'houses', 'always', 'have', 'bells', 'that', 'ring', 'like', 'that.', 'He', 'had', 'forgotten', 'the', 'note', 'of', 'that', 'bell,', 'and', 'now', 'its', 'peculiar', 'tinkle', 'seemed', 'to', 'remind', 'him', 'of', 'something', 'and', 'to', 'bring', 'it', 'clearly', 'before', 'him....', 'He', 'started,', 'his', 'nerves', 'were', 'terribly', 'overstrained', 'by', 'now.', 'In', 'a', 'little', 'while,', 'the', 'door', 'was', 'opened', 'a', 'tiny', 'crack:', 'the', 'old', 'woman', 'eyed', 'her', 'visitor', 'with', 'evident', 'distrust', 'through', 'the', 'crack,', 'and', 'nothing', 'could', 'be', 'seen', 'but', 'her', 'little', 'eyes,', 'glittering', 'in', 'the', 'darkness.', 'But,', 'seeing', 'a', 'number', 'of', 'people', 'on', 'the', 'landing,', 'she', 'grew', 'bolder,', 'and', 'opened', 'the', 'door', 'wide.', 'The', 'young', 'man', 'stepped', 'into', 'the', 'dark', 'entry,', 'which', 'was', 'partitioned', 'off', 'from', 'the', 'tiny', 'kitchen.', 'The', 'old', 'woman', 'stood', 'facing', 'him', 'in', 'silence', 'and', 'looking', 'inquiringly', 'at', 'him.', 'She', 'was', 'a', 'diminutive,', 'withered', 'up', 'old', 'woman', 'of', 'sixty,', 'with', 'sharp', 'malignant', 'eyes', 'and', 'a', 'sharp', 'little', 'nose.', 'Her', 'colourless,', 'somewhat', 'grizzled', 'hair', 'was', 'thickly', 'smeared', 'with', 'oil,', 'and', 'she', 'wore', 'no', 'kerchief', 'over', 'it.', 'Round', 'her', 'thin', 'long', 'neck,', 'which', 'looked', 'like', 'a', 'hen’s', 'leg,', 'was', 'knotted', 'some', 'sort', 'of', 'flannel', 'rag,', 'and,', 'in', 'spite', 'of', 'the', 'heat,', 'there', 'hung', 'flapping', 'on', 'her', 'shoulders,', 'a', 'mangy', 'fur', 'cape,', 'yellow', 'with', 'age.', 'The', 'old', 'woman', 'coughed', 'and', 'groaned', 'at', 'every', 'instant.', 'The', 'young', 'man', 'must', 'have', 'looked', 'at', 'her', 'with', 'a', 'rather', 'peculiar', 'expression,', 'for', 'a', 'gleam', 'of', 'mistrust', 'came', 'into', 'her', 'eyes', 'again.', '', '“Raskolnikov,', 'a', 'student,', 'I', 'came', 'here', 'a', 'month', 'ago,”', 'the', 'young', 'man', 'made', 'haste', 'to', 'mutter,', 'with', 'a', 'half', 'bow,', 'remembering', 'that', 'he', 'ought', 'to', 'be', 'more', 'polite.', '', '“I', 'remember,', 'my', 'good', 'sir,', 'I', 'remember', 'quite', 'well', 'your', 'coming', 'here,”', 'the', 'old', 'woman', 'said', 'distinctly,', 'still', 'keeping', 'her', 'inquiring', 'eyes', 'on', 'his', 'face.', '', '“And', 'here...', 'I', 'am', 'again', 'on', 'the', 'same', 'errand,”', 'Raskolnikov', 'continued,', 'a', 'little', 'disconcerted', 'and', 'surprised', 'at', 'the', 'old', 'woman’s', 'mistrust.', '“Perhaps', 'she', 'is', 'always', 'like', 'that', 'though,', 'only', 'I', 'did', 'not', 'notice', 'it', 'the', 'other', 'time,”', 'he', 'thought', 'with', 'an', 'uneasy', 'feeling.', '', 'The', 'old', 'woman', 'paused,', 'as', 'though', 'hesitating;', 'then', 'stepped', 'on', 'one', 'side,', 'and', 'pointing', 'to', 'the', 'door', 'of', 'the', 'room,', 'she', 'said,', 'letting', 'her', 'visitor', 'pass', 'in', 'front', 'of', 'her:', '', '“Step', 'in,', 'my', 'good', 'sir.”', '', 'The', 'little', 'room', 'into', 'which', 'the', 'young', 'man', 'walked,', 'with', 'yellow', 'paper', 'on', 'the', 'walls,', 'geraniums', 'and', 'muslin', 'curtains', 'in', 'the', 'windows,', 'was', 'brightly', 'lighted', 'up', 'at', 'that', 'moment', 'by', 'the', 'setting', 'sun.', '', '“So', 'the', 'sun', 'will', 'shine', 'like', 'this', '_then_', 'too!”', 'flashed', 'as', 'it', 'were', 'by', 'chance', 'through', 'Raskolnikov’s', 'mind,', 'and', 'with', 'a', 'rapid', 'glance', 'he', 'scanned', 'everything', 'in', 'the', 'room,', 'trying', 'as', 'far', 'as', 'possible', 'to', 'notice', 'and', 'remember', 'its', 'arrangement.', 'But', 'there', 'was', 'nothing', 'special', 'in', 'the', 'room.', 'The', 'furniture,', 'all', 'very', 'old', 'and', 'of', 'yellow', 'wood,', 'consisted', 'of', 'a', 'sofa', 'with', 'a', 'huge', 'bent', 'wooden', 'back,', 'an', 'oval', 'table', 'in', 'front', 'of', 'the', 'sofa,', 'a', 'dressing-table', 'with', 'a', 'looking-glass', 'fixed', 'on', 'it', 'between', 'the', 'windows,', 'chairs', 'along', 'the', 'walls', 'and', 'two', 'or', 'three', 'half-penny', 'prints', 'in', 'yellow', 'frames,', 'representing', 'German', 'damsels', 'with', 'birds', 'in', 'their', 'hands--that', 'was', 'all.', 'In', 'the', 'corner', 'a', 'light', 'was', 'burning', 'before', 'a', 'small', 'ikon.', 'Everything', 'was', 'very', 'clean;', 'the', 'floor', 'and', 'the', 'furniture', 'were', 'brightly', 'polished;', 'everything', 'shone.', '', '“Lizaveta’s', 'work,”', 'thought', 'the', 'young', 'man.', 'There', 'was', 'not', 'a', 'speck', 'of', 'dust', 'to', 'be', 'seen', 'in', 'the', 'whole', 'flat.', '', '“It’s', 'in', 'the', 'houses', 'of', 'spiteful', 'old', 'widows', 'that', 'one', 'finds', 'such', 'cleanliness,”', 'Raskolnikov', 'thought', 'again,', 'and', 'he', 'stole', 'a', 'curious', 'glance', 'at', 'the', 'cotton', 'curtain', 'over', 'the', 'door', 'leading', 'into', 'another', 'tiny', 'room,', 'in', 'which', 'stood', 'the', 'old', 'woman’s', 'bed', 'and', 'chest', 'of', 'drawers', 'and', 'into', 'which', 'he', 'had', 'never', 'looked', 'before.', 'These', 'two', 'rooms', 'made', 'up', 'the', 'whole', 'flat.', '', '“What', 'do', 'you', 'want?”', 'the', 'old', 'woman', 'said', 'severely,', 'coming', 'into', 'the', 'room', 'and,', 'as', 'before,', 'standing', 'in', 'front', 'of', 'him', 'so', 'as', 'to', 'look', 'him', 'straight', 'in', 'the', 'face.', '', '“I’ve', 'brought', 'something', 'to', 'pawn', 'here,”', 'and', 'he', 'drew', 'out', 'of', 'his', 'pocket', 'an', 'old-fashioned', 'flat', 'silver', 'watch,', 'on', 'the', 'back', 'of', 'which', 'was', 'engraved', 'a', 'globe;', 'the', 'chain', 'was', 'of', 'steel.', '', '“But', 'the', 'time', 'is', 'up', 'for', 'your', 'last', 'pledge.', 'The', 'month', 'was', 'up', 'the', 'day', 'before', 'yesterday.”', '', '“I', 'will', 'bring', 'you', 'the', 'interest', 'for', 'another', 'month;', 'wait', 'a', 'little.”', '', '“But', 'that’s', 'for', 'me', 'to', 'do', 'as', 'I', 'please,', 'my', 'good', 'sir,', 'to', 'wait', 'or', 'to', 'sell', 'your', 'pledge', 'at', 'once.”', '', '“How', 'much', 'will', 'you', 'give', 'me', 'for', 'the', 'watch,', 'Alyona', 'Ivanovna?”', '', '“You', 'come', 'with', 'such', 'trifles,', 'my', 'good', 'sir,', 'it’s', 'scarcely', 'worth', 'anything.', 'I', 'gave', 'you', 'two', 'roubles', 'last', 'time', 'for', 'your', 'ring', 'and', 'one', 'could', 'buy', 'it', 'quite', 'new', 'at', 'a', 'jeweler’s', 'for', 'a', 'rouble', 'and', 'a', 'half.”', '', '“Give', 'me', 'four', 'roubles', 'for', 'it,', 'I', 'shall', 'redeem', 'it,', 'it', 'was', 'my', 'father’s.', 'I', 'shall', 'be', 'getting', 'some', 'money', 'soon.”', '', '“A', 'rouble', 'and', 'a', 'half,', 'and', 'interest', 'in', 'advance,', 'if', 'you', 'like!”', '', '“A', 'rouble', 'and', 'a', 'half!”', 'cried', 'the', 'young', 'man.', '', '“Please', 'yourself”--and', 'the', 'old', 'woman', 'handed', 'him', 'back', 'the', 'watch.', 'The', 'young', 'man', 'took', 'it,', 'and', 'was', 'so', 'angry', 'that', 'he', 'was', 'on', 'the', 'point', 'of', 'going', 'away;', 'but', 'checked', 'himself', 'at', 'once,', 'remembering', 'that', 'there', 'was', 'nowhere', 'else', 'he', 'could', 'go,', 'and', 'that', 'he', 'had', 'had', 'another', 'object', 'also', 'in', 'coming.', '', '“Hand', 'it', 'over,”', 'he', 'said', 'roughly.', '', 'The', 'old', 'woman', 'fumbled', 'in', 'her', 'pocket', 'for', 'her', 'keys,', 'and', 'disappeared', 'behind', 'the', 'curtain', 'into', 'the', 'other', 'room.', 'The', 'young', 'man,', 'left', 'standing', 'alone', 'in', 'the', 'middle', 'of', 'the', 'room,', 'listened', 'inquisitively,', 'thinking.', 'He', 'could', 'hear', 'her', 'unlocking', 'the', 'chest', 'of', 'drawers.', '', '“It', 'must', 'be', 'the', 'top', 'drawer,”', 'he', 'reflected.', '“So', 'she', 'carries', 'the', 'keys', 'in', 'a', 'pocket', 'on', 'the', 'right.', 'All', 'in', 'one', 'bunch', 'on', 'a', 'steel', 'ring....', 'And', 'there’s', 'one', 'key', 'there,', 'three', 'times', 'as', 'big', 'as', 'all', 'the', 'others,', 'with', 'deep', 'notches;', 'that', 'can’t', 'be', 'the', 'key', 'of', 'the', 'chest', 'of', 'drawers...', 'then', 'there', 'must', 'be', 'some', 'other', 'chest', 'or', 'strong-box...', 'that’s', 'worth', 'knowing.', 'Strong-boxes', 'always', 'have', 'keys', 'like', 'that...', 'but', 'how', 'degrading', 'it', 'all', 'is.”', '', 'The', 'old', 'woman', 'came', 'back.', '', '“Here,', 'sir:', 'as', 'we', 'say', 'ten', 'copecks', 'the', 'rouble', 'a', 'month,', 'so', 'I', 'must', 'take', 'fifteen', 'copecks', 'from', 'a', 'rouble', 'and', 'a', 'half', 'for', 'the', 'month', 'in', 'advance.', 'But', 'for', 'the', 'two', 'roubles', 'I', 'lent', 'you', 'before,', 'you', 'owe', 'me', 'now', 'twenty', 'copecks', 'on', 'the', 'same', 'reckoning', 'in', 'advance.', 'That', 'makes', 'thirty-five', 'copecks', 'altogether.', 'So', 'I', 'must', 'give', 'you', 'a', 'rouble', 'and', 'fifteen', 'copecks', 'for', 'the', 'watch.', 'Here', 'it', 'is.”', '', '“What!', 'only', 'a', 'rouble', 'and', 'fifteen', 'copecks', 'now!”', '', '“Just', 'so.”', '', 'The', 'young', 'man', 'did', 'not', 'dispute', 'it', 'and', 'took', 'the', 'money.', 'He', 'looked', 'at', 'the', 'old', 'woman,', 'and', 'was', 'in', 'no', 'hurry', 'to', 'get', 'away,', 'as', 'though', 'there', 'was', 'still', 'something', 'he', 'wanted', 'to', 'say', 'or', 'to', 'do,', 'but', 'he', 'did', 'not', 'himself', 'quite', 'know', 'what.', '', '“I', 'may', 'be', 'bringing', 'you', 'something', 'else', 'in', 'a', 'day', 'or', 'two,', 'Alyona', 'Ivanovna--a', 'valuable', 'thing--silver--a', 'cigarette-box,', 'as', 'soon', 'as', 'I', 'get', 'it', 'back', 'from', 'a', 'friend...”', 'he', 'broke', 'off', 'in', 'confusion.', '', '“Well,', 'we', 'will', 'talk', 'about', 'it', 'then,', 'sir.”', '', '“Good-bye--are', 'you', 'always', 'at', 'home', 'alone,', 'your', 'sister', 'is', 'not', 'here', 'with', 'you?”', 'He', 'asked', 'her', 'as', 'casually', 'as', 'possible', 'as', 'he', 'went', 'out', 'into', 'the', 'passage.', '', '“What', 'business', 'is', 'she', 'of', 'yours,', 'my', 'good', 'sir?”', '', '“Oh,', 'nothing', 'particular,', 'I', 'simply', 'asked.', 'You', 'are', 'too', 'quick....', 'Good-day,', 'Alyona', 'Ivanovna.”', '', 'Raskolnikov', 'went', 'out', 'in', 'complete', 'confusion.', 'This', 'confusion', 'became', 'more', 'and', 'more', 'intense.', 'As', 'he', 'went', 'down', 'the', 'stairs,', 'he', 'even', 'stopped', 'short,', 'two', 'or', 'three', 'times,', 'as', 'though', 'suddenly', 'struck', 'by', 'some', 'thought.', 'When', 'he', 'was', 'in', 'the', 'street', 'he', 'cried', 'out,', '“Oh,', 'God,', 'how', 'loathsome', 'it', 'all', 'is!', 'and', 'can', 'I,', 'can', 'I', 'possibly....', 'No,', 'it’s', 'nonsense,', 'it’s', 'rubbish!”', 'he', 'added', 'resolutely.', '“And', 'how', 'could', 'such', 'an', 'atrocious', 'thing', 'come', 'into', 'my', 'head?', 'What', 'filthy', 'things', 'my', 'heart', 'is', 'capable', 'of.', 'Yes,', 'filthy', 'above', 'all,', 'disgusting,', 'loathsome,', 'loathsome!--and', 'for', 'a', 'whole', 'month', 'I’ve', 'been....”', '', 'But', 'no', 'words,', 'no', 'exclamations,', 'could', 'express', 'his', 'agitation.', 'The', 'feeling', 'of', 'intense', 'repulsion,', 'which', 'had', 'begun', 'to', 'oppress', 'and', 'torture', 'his', 'heart', 'while', 'he', 'was', 'on', 'his', 'way', 'to', 'the', 'old', 'woman,', 'had', 'by', 'now', 'reached', 'such', 'a', 'pitch', 'and', 'had', 'taken', 'such', 'a', 'definite', 'form', 'that', 'he', 'did', 'not', 'know', 'what', 'to', 'do', 'with', 'himself', 'to', 'escape', 'from', 'his', 'wretchedness.', 'He', 'walked', 'along', 'the', 'pavement', 'like', 'a', 'drunken', 'man,', 'regardless', 'of', 'the', 'passers-by,', 'and', 'jostling', 'against', 'them,', 'and', 'only', 'came', 'to', 'his', 'senses', 'when', 'he', 'was', 'in', 'the', 'next', 'street.', 'Looking', 'round,', 'he', 'noticed', 'that', 'he', 'was', 'standing', 'close', 'to', 'a', 'tavern', 'which', 'was', 'entered', 'by', 'steps', 'leading', 'from', 'the', 'pavement', 'to', 'the', 'basement.', 'At', 'that', 'instant', 'two', 'drunken', 'men', 'came', 'out', 'at', 'the', 'door,', 'and', 'abusing', 'and', 'supporting', 'one', 'another,', 'they', 'mounted', 'the', 'steps.', 'Without', 'stopping', 'to', 'think,', 'Raskolnikov', 'went', 'down', 'the', 'steps', 'at', 'once.', 'Till', 'that', 'moment', 'he', 'had', 'never', 'been', 'into', 'a', 'tavern,', 'but', 'now', 'he', 'felt', 'giddy', 'and', 'was', 'tormented', 'by', 'a', 'burning', 'thirst.', 'He', 'longed', 'for', 'a', 'drink', 'of', 'cold', 'beer,', 'and', 'attributed', 'his', 'sudden', 'weakness', 'to', 'the', 'want', 'of', 'food.', 'He', 'sat', 'down', 'at', 'a', 'sticky', 'little', 'table', 'in', 'a', 'dark', 'and', 'dirty', 'corner;', 'ordered', 'some', 'beer,', 'and', 'eagerly', 'drank', 'off', 'the', 'first', 'glassful.', 'At', 'once', 'he', 'felt', 'easier;', 'and', 'his', 'thoughts', 'became', 'clear.', '', '“All', 'that’s', 'nonsense,”', 'he', 'said', 'hopefully,', '“and', 'there', 'is', 'nothing', 'in', 'it', 'all', 'to', 'worry', 'about!', 'It’s', 'simply', 'physical', 'derangement.', 'Just', 'a', 'glass', 'of', 'beer,', 'a', 'piece', 'of', 'dry', 'bread--and', 'in', 'one', 'moment', 'the', 'brain', 'is', 'stronger,', 'the', 'mind', 'is', 'clearer', 'and', 'the', 'will', 'is', 'firm!', 'Phew,', 'how', 'utterly', 'petty', 'it', 'all', 'is!”', '', 'But', 'in', 'spite', 'of', 'this', 'scornful', 'reflection,', 'he', 'was', 'by', 'now', 'looking', 'cheerful', 'as', 'though', 'he', 'were', 'suddenly', 'set', 'free', 'from', 'a', 'terrible', 'burden:', 'and', 'he', 'gazed', 'round', 'in', 'a', 'friendly', 'way', 'at', 'the', 'people', 'in', 'the', 'room.', 'But', 'even', 'at', 'that', 'moment', 'he', 'had', 'a', 'dim', 'foreboding', 'that', 'this', 'happier', 'frame', 'of', 'mind', 'was', 'also', 'not', 'normal.', '', 'There', 'were', 'few', 'people', 'at', 'the', 'time', 'in', 'the', 'tavern.', 'Besides', 'the', 'two', 'drunken', 'men', 'he', 'had', 'met', 'on', 'the', 'steps,', 'a', 'group', 'consisting', 'of', 'about', 'five', 'men', 'and', 'a', 'girl', 'with', 'a', 'concertina', 'had', 'gone', 'out', 'at', 'the', 'same', 'time.', 'Their', 'departure', 'left', 'the', 'room', 'quiet', 'and', 'rather', 'empty.', 'The', 'persons', 'still', 'in', 'the', 'tavern', 'were', 'a', 'man', 'who', 'appeared', 'to', 'be', 'an', 'artisan,', 'drunk,', 'but', 'not', 'extremely', 'so,', 'sitting', 'before', 'a', 'pot', 'of', 'beer,', 'and', 'his', 'companion,', 'a', 'huge,', 'stout', 'man', 'with', 'a', 'grey', 'beard,', 'in', 'a', 'short', 'full-skirted', 'coat.', 'He', 'was', 'very', 'drunk:', 'and', 'had', 'dropped', 'asleep', 'on', 'the', 'bench;', 'every', 'now', 'and', 'then,', 'he', 'began', 'as', 'though', 'in', 'his', 'sleep,', 'cracking', 'his', 'fingers,', 'with', 'his', 'arms', 'wide', 'apart', 'and', 'the', 'upper', 'part', 'of', 'his', 'body', 'bounding', 'about', 'on', 'the', 'bench,', 'while', 'he', 'hummed', 'some', 'meaningless', 'refrain,', 'trying', 'to', 'recall', 'some', 'such', 'lines', 'as', 'these:', '', '', '', '', '“His', 'wife', 'a', 'year', 'he', 'fondly', 'loved', '', '', '', '', 'His', 'wife', 'a--a', 'year', 'he--fondly', 'loved.”', '', 'Or', 'suddenly', 'waking', 'up', 'again:', '', '', '', '', '“Walking', 'along', 'the', 'crowded', 'row', '', '', '', '', 'He', 'met', 'the', 'one', 'he', 'used', 'to', 'know.”', '', 'But', 'no', 'one', 'shared', 'his', 'enjoyment:', 'his', 'silent', 'companion', 'looked', 'with', 'positive', 'hostility', 'and', 'mistrust', 'at', 'all', 'these', 'manifestations.', 'There', 'was', 'another', 'man', 'in', 'the', 'room', 'who', 'looked', 'somewhat', 'like', 'a', 'retired', 'government', 'clerk.', 'He', 'was', 'sitting', 'apart,', 'now', 'and', 'then', 'sipping', 'from', 'his', 'pot', 'and', 'looking', 'round', 'at', 'the', 'company.', 'He,', 'too,', 'appeared', 'to', 'be', 'in', 'some', 'agitation.', '', '', '', 'CHAPTER', 'II', '', 'Raskolnikov', 'was', 'not', 'used', 'to', 'crowds,', 'and,', 'as', 'we', 'said', 'before,', 'he', 'avoided', 'society', 'of', 'every', 'sort,', 'more', 'especially', 'of', 'late.', 'But', 'now', 'all', 'at', 'once', 'he', 'felt', 'a', 'desire', 'to', 'be', 'with', 'other', 'people.', 'Something', 'new', 'seemed', 'to', 'be', 'taking', 'place', 'within', 'him,', 'and', 'with', 'it', 'he', 'felt', 'a', 'sort', 'of', 'thirst', 'for', 'company.', 'He', 'was', 'so', 'weary', 'after', 'a', 'whole', 'month', 'of', 'concentrated', 'wretchedness', 'and', 'gloomy', 'excitement', 'that', 'he', 'longed', 'to', 'rest,', 'if', 'only', 'for', 'a', 'moment,', 'in', 'some', 'other', 'world,', 'whatever', 'it', 'might', 'be;', 'and,', 'in', 'spite', 'of', 'the', 'filthiness', 'of', 'the', 'surroundings,', 'he', 'was', 'glad', 'now', 'to', 'stay', 'in', 'the', 'tavern.', '', 'The', 'master', 'of', 'the', 'establishment', 'was', 'in', 'another', 'room,', 'but', 'he', 'frequently', 'came', 'down', 'some', 'steps', 'into', 'the', 'main', 'room,', 'his', 'jaunty,', 'tarred', 'boots', 'with', 'red', 'turn-over', 'tops', 'coming', 'into', 'view', 'each', 'time', 'before', 'the', 'rest', 'of', 'his', 'person.', 'He', 'wore', 'a', 'full', 'coa']\n"
          ]
        }
      ],
      "source": [
        "to_split_on_sent = re.compile(\" \")\n",
        "C_and_P_sentences = to_split_on_sent.split(chapter_one)\n",
        "print(C_and_P_sentences)"
      ]
    },
    {
      "cell_type": "markdown",
      "id": "SrlRLk386H3C",
      "metadata": {
        "id": "SrlRLk386H3C"
      },
      "source": [
        "## Natural Language Toolkit"
      ]
    },
    {
      "cell_type": "markdown",
      "id": "0_7dXjcU6NPS",
      "metadata": {
        "id": "0_7dXjcU6NPS"
      },
      "source": [
        "So far we have looked at the core Python programming language and the re library. However much of the time this semester we will be making use of even more  powerful libraries for natural language processing and machine learning. Today we will make use of a few of these. The first of is \"Natural Language Toolkit\" or nltk (http://www.nltk.org/).\n",
        "\n",
        "The first thing we need to do is to make sure we have the libraries we want installed. On Google Colab they are all already there. If your are using your own machine you will have to install it using the following command (unlike for re which is present by default and just needs to be loaded).\n"
      ]
    },
    {
      "cell_type": "markdown",
      "id": "XeveyQ1U6ZAb",
      "metadata": {
        "id": "XeveyQ1U6ZAb"
      },
      "source": [
        "In order to use the library we then need to import it"
      ]
    },
    {
      "cell_type": "code",
      "execution_count": null,
      "id": "1OjPJnkF6b_j",
      "metadata": {
        "id": "1OjPJnkF6b_j"
      },
      "outputs": [],
      "source": [
        "import nltk"
      ]
    },
    {
      "cell_type": "markdown",
      "id": "kaDajLqB6fWJ",
      "metadata": {
        "id": "kaDajLqB6fWJ"
      },
      "source": [
        "### Tokenising"
      ]
    },
    {
      "cell_type": "code",
      "execution_count": null,
      "id": "S7ENRnXE6r28",
      "metadata": {
        "id": "S7ENRnXE6r28"
      },
      "outputs": [],
      "source": [
        "nltk.download('punkt_tab')\n",
        "chapter_one_tokens = nltk.word_tokenize(chapter_one)\n",
        "print(chapter_one_tokens)"
      ]
    },
    {
      "cell_type": "markdown",
      "id": "ohWHhhsL6386",
      "metadata": {
        "id": "ohWHhhsL6386"
      },
      "source": [
        "### Sentence Segmentation"
      ]
    },
    {
      "cell_type": "code",
      "execution_count": null,
      "id": "xIBnBecI67FI",
      "metadata": {
        "id": "xIBnBecI67FI"
      },
      "outputs": [],
      "source": [
        "chapter_one_sentences = nltk.sent_tokenize(' '.join(chapter_one_tokens))\n",
        "print(chapter_one_sentences[1])"
      ]
    },
    {
      "cell_type": "markdown",
      "id": "PUAqbWbK6_af",
      "metadata": {
        "id": "PUAqbWbK6_af"
      },
      "source": [
        "### Stemming"
      ]
    },
    {
      "cell_type": "code",
      "execution_count": null,
      "id": "1-x4wwnn6_3I",
      "metadata": {
        "id": "1-x4wwnn6_3I"
      },
      "outputs": [],
      "source": [
        "porter = nltk.PorterStemmer()\n",
        "for t in chapter_one_tokens:\n",
        "    print(porter.stem(t),end=\" \")"
      ]
    },
    {
      "cell_type": "markdown",
      "id": "ApCEr2dc7D47",
      "metadata": {
        "id": "ApCEr2dc7D47"
      },
      "source": [
        "### Lemmatising"
      ]
    },
    {
      "cell_type": "code",
      "execution_count": null,
      "id": "HB6ESeQZ7EaR",
      "metadata": {
        "id": "HB6ESeQZ7EaR"
      },
      "outputs": [],
      "source": [
        "nltk.download('wordnet')\n",
        "wnl = nltk.WordNetLemmatizer()\n",
        "for t in chapter_one_tokens:\n",
        "    print(wnl.lemmatize(t),end=\" \")"
      ]
    },
    {
      "cell_type": "markdown",
      "id": "l1ijQKCx7HwX",
      "metadata": {
        "id": "l1ijQKCx7HwX"
      },
      "source": [
        "# Vector semantics"
      ]
    },
    {
      "cell_type": "markdown",
      "id": "5BsrFJSs7IXp",
      "metadata": {
        "id": "5BsrFJSs7IXp"
      },
      "source": [
        "In this week's lecture you heard about Vector-based semantics. Today we will take a look at these models in Python.\n",
        "\n",
        "First we will use nltk to segment and tokenize the whole of Crime and Punishment."
      ]
    },
    {
      "cell_type": "code",
      "execution_count": null,
      "id": "VKgZMdQ_7UbA",
      "metadata": {
        "id": "VKgZMdQ_7UbA"
      },
      "outputs": [],
      "source": [
        "C_and_P_tokens_sentences = []\n",
        "for sent in nltk.sent_tokenize(raw):\n",
        "    C_and_P_tokens_sentences.append(nltk.word_tokenize(sent))"
      ]
    },
    {
      "cell_type": "markdown",
      "id": "QRf6Fbn97WZl",
      "metadata": {
        "id": "QRf6Fbn97WZl"
      },
      "source": [
        "Next we will build a cooccurence matrix using the following code. The purpose of this is to aid your conceptual understanding by looking at the output, and you aren't expected to read or understand this code. Although if you come back to it later in the semester you may well be able to figure it out"
      ]
    },
    {
      "cell_type": "code",
      "source": [
        "import numpy as np\n",
        "c_and_p=C_and_P_tokens_sentences\n",
        "c_and_p = [x for l in c_and_p for x in l]\n",
        "token_count = len(c_and_p)\n",
        "type_list = list(set(c_and_p))\n",
        "# The type count is the number of unique words. The token count is the total number of words including repetitions.\n",
        "type_count = len(type_list)\n",
        "# We create a matrix in which to store the counts for each word-by-word co-occurence\n",
        "M = np.zeros((type_count, type_count))\n",
        "window_size = 2\n",
        "\n",
        "for i, word in enumerate(c_and_p):\n",
        "            #print(str(i) + word)\n",
        "            # Find the index in the tokenized sentence vector for the beginning of the window (the current token minus window size or zero whichever is the lower)\n",
        "            begin = max(i - window_size, 0)\n",
        "            # Find the index in the tokenized sentence vector for the end of the window (the current token plus window size or the length of the sentence whichever is the lower)\n",
        "            end  = min(i + window_size, token_count)\n",
        "            # Extract the text from beginning of window to the end\n",
        "            context = c_and_p[begin: end + 1]\n",
        "            # Remove the target word from its own window\n",
        "            context.remove(c_and_p[i])\n",
        "            # Find the row for the current target word\n",
        "            current_row = type_list.index(c_and_p[i])\n",
        "            # Iterate over the window for this target word\n",
        "            for token in context:\n",
        "                # Find the ID and hence the column index for the current token\n",
        "                current_col = type_list.index(token)\n",
        "                # Add 1 to the current context word dimension for the current target word\n",
        "                M[current_row, current_col] += 1"
      ],
      "metadata": {
        "id": "iDK8ktJkrWh9"
      },
      "id": "iDK8ktJkrWh9",
      "execution_count": null,
      "outputs": []
    },
    {
      "cell_type": "code",
      "source": [
        "def cosine(a,b):\n",
        "  return(np.dot(a,b)/(np.linalg.norm(a)*np.linalg.norm(b)))"
      ],
      "metadata": {
        "id": "HLZ0LnbUyBjH"
      },
      "id": "HLZ0LnbUyBjH",
      "execution_count": null,
      "outputs": []
    },
    {
      "cell_type": "code",
      "source": [
        "import numpy as np\n",
        "w1 = \"walk\"\n",
        "w2 = \"run\"\n",
        "w3 = \"shine\"\n",
        "w1_index = type_list.index(w1)\n",
        "w2_index = type_list.index(w2)\n",
        "w3_index = type_list.index(w3)\n",
        "w1_vec=M[type_list.index(w1),]\n",
        "w2_vec=M[type_list.index(w2),]\n",
        "w3_vec=M[type_list.index(w3),]\n"
      ],
      "metadata": {
        "id": "ADR14jaUrvbF"
      },
      "id": "ADR14jaUrvbF",
      "execution_count": null,
      "outputs": []
    },
    {
      "cell_type": "code",
      "source": [
        "cosine(w1_vec,w2_vec)"
      ],
      "metadata": {
        "id": "r7OHB2XgwpW4"
      },
      "id": "r7OHB2XgwpW4",
      "execution_count": null,
      "outputs": []
    },
    {
      "cell_type": "markdown",
      "source": [
        "### Pretrained embeddings\n",
        "\n",
        "Vectors are best when learned from very large text collections. However learning such vectors, particular using neural network methods rather than simple counting, is very computationally intensive. As a result most people make use of pretrained embeddings such as those found at\n",
        "\n",
        "https://code.google.com/archive/p/word2vec/\n",
        "\n",
        "or\n",
        "\n",
        "https://nlp.stanford.edu/projects/glove/"
      ],
      "metadata": {
        "id": "G20YY35vjV53"
      },
      "id": "G20YY35vjV53"
    },
    {
      "cell_type": "code",
      "source": [
        "!wget http://nlp.stanford.edu/data/glove.6B.zip\n",
        "!unzip -q glove.6B.zip"
      ],
      "metadata": {
        "id": "0z2ZU1KzaFWQ"
      },
      "execution_count": null,
      "outputs": [],
      "id": "0z2ZU1KzaFWQ"
    },
    {
      "cell_type": "code",
      "source": [
        "import numpy as np\n",
        "embedding_file = 'glove.6B.100d.txt'\n",
        "#embedding_file = f.read()\n",
        "embeddings=[]\n",
        "type_list=[]\n",
        "with open(embedding_file) as fp:\n",
        "            for line in fp.readlines():\n",
        "                line = line.split(\" \")\n",
        "                word = line[0]\n",
        "                vec = np.array([float(x) for x in line[1:]])\n",
        "                type_list.append(word)\n",
        "                embeddings.append(vec)\n",
        "M=np.array((embeddings))"
      ],
      "metadata": {
        "id": "grtFYZDcfrvZ"
      },
      "execution_count": null,
      "outputs": [],
      "id": "grtFYZDcfrvZ"
    },
    {
      "cell_type": "code",
      "source": [
        "w1 = \"football\"\n",
        "w2 = \"rugby\"\n",
        "w3 = \"cricket\"\n",
        "w1_index = type_list.index(w1)\n",
        "w2_index = type_list.index(w2)\n",
        "w3_index = type_list.index(w3)\n",
        "w1_vec=M[w1_index,]\n",
        "w2_vec=M[w2_index,]\n",
        "w3_vec=M[w3_index,]"
      ],
      "metadata": {
        "id": "P190dF8Kq3VW"
      },
      "execution_count": null,
      "outputs": [],
      "id": "P190dF8Kq3VW"
    },
    {
      "cell_type": "code",
      "source": [
        "cosine(w1_vec,w2_vec)"
      ],
      "metadata": {
        "id": "M2JGAiHt9Y76"
      },
      "id": "M2JGAiHt9Y76",
      "execution_count": null,
      "outputs": []
    },
    {
      "cell_type": "code",
      "source": [
        "cosine(w1_vec,w3_vec)"
      ],
      "metadata": {
        "id": "EWE3Zx0M9ZSD"
      },
      "id": "EWE3Zx0M9ZSD",
      "execution_count": null,
      "outputs": []
    },
    {
      "cell_type": "code",
      "source": [
        "cosine(w2_vec,w3_vec)"
      ],
      "metadata": {
        "id": "fzhWBHyY9dte"
      },
      "id": "fzhWBHyY9dte",
      "execution_count": null,
      "outputs": []
    },
    {
      "cell_type": "markdown",
      "source": [
        "Problem 1. Calculate the cosine between the words above. What do the cosine values tell us?"
      ],
      "metadata": {
        "id": "6WYSDJLF7h2l"
      },
      "id": "6WYSDJLF7h2l"
    },
    {
      "cell_type": "markdown",
      "source": [
        "# Finding the most similar words\n",
        "\n",
        "One thing we often want to do is to find the most similar words to a given word/vector. An exhaustive N x N comparison is very time consuming, and so we can make use of an efficient \"nearest neighbours\" finding algorithm. We are just using this algorithm here so we won't go into it in any detail."
      ],
      "metadata": {
        "id": "1b6fOj5BTFjn"
      },
      "id": "1b6fOj5BTFjn"
    },
    {
      "cell_type": "code",
      "source": [
        "from sklearn.neighbors import NearestNeighbors\n",
        "nbrs = NearestNeighbors(n_neighbors=5, algorithm='ball_tree').fit(M)"
      ],
      "metadata": {
        "id": "gutnPC3Dv-KV"
      },
      "execution_count": null,
      "outputs": [],
      "id": "gutnPC3Dv-KV"
    },
    {
      "cell_type": "code",
      "source": [
        "w=\"football\"\n",
        "w_index = type_list.index(w)\n",
        "w_vec = M[w_index,]\n",
        "for i in nbrs.kneighbors([w_vec])[1][0]:\n",
        "  print(type_list[i])"
      ],
      "metadata": {
        "id": "kgcxDOU70gYO"
      },
      "execution_count": null,
      "outputs": [],
      "id": "kgcxDOU70gYO"
    },
    {
      "cell_type": "markdown",
      "source": [
        "Problem 4. Find some examples where the system fails and explain why you think it has done so."
      ],
      "metadata": {
        "id": "144-ZuZ37R9L"
      },
      "id": "144-ZuZ37R9L"
    },
    {
      "cell_type": "markdown",
      "source": [
        "### Analogical reasoning"
      ],
      "metadata": {
        "id": "3U1nSPzz6637"
      },
      "id": "3U1nSPzz6637"
    },
    {
      "cell_type": "markdown",
      "metadata": {
        "id": "I80Hq6i6sZZj"
      },
      "source": [
        "Another semantic property of embeddings is their ability to capture relational meanings. In an important early vector space model of cognition, Rumelhart and Abrahamson (1973) proposed the parallelogram model for solving simple analogy problems of the form a is to b as a* is to what?. In such problems, a system given a problem like apple:tree::grape:?, i.e., apple is to tree as  grape is to , and must fill in the word vine.\n",
        "\n",
        "In the parallelogram model, the vector from the word apple to the word tree (= tree − apple) is added to the vector for grape (grape); the nearest word to that point is returned.\n",
        "\n",
        "\n",
        "\n"
      ],
      "id": "I80Hq6i6sZZj"
    },
    {
      "cell_type": "code",
      "execution_count": null,
      "metadata": {
        "id": "rulVu7_dsZZj"
      },
      "outputs": [],
      "source": [
        "w1 = \"apple\"\n",
        "w2 = \"tree\"\n",
        "w3 = \"grape\"\n",
        "w1_index = type_list.index(w1)\n",
        "w2_index = type_list.index(w2)\n",
        "w3_index = type_list.index(w3)\n",
        "w1_vec = M[w1_index,]\n",
        "w2_vec = M[w2_index,]\n",
        "w3_vec = M[w3_index,]\n",
        "\n",
        "spatial_relationship = w2_vec - w1_vec\n",
        "w4_vec = w3_vec + spatial_relationship\n",
        "\n",
        "nbrs.kneighbors([w4_vec])\n",
        "for i in nbrs.kneighbors([w4_vec])[1][0]:\n",
        "  print(type_list[i])"
      ],
      "id": "rulVu7_dsZZj"
    },
    {
      "cell_type": "markdown",
      "source": [
        "Problem 4: Come up with a analogical reasoning problem of your own and use the code to solve it."
      ],
      "metadata": {
        "id": "cJ3PFSNh_XkH"
      },
      "id": "cJ3PFSNh_XkH"
    }
  ],
  "metadata": {
    "colab": {
      "provenance": []
    },
    "kernelspec": {
      "display_name": "Python 3",
      "language": "python",
      "name": "python3"
    },
    "language_info": {
      "codemirror_mode": {
        "name": "ipython",
        "version": 3
      },
      "file_extension": ".py",
      "mimetype": "text/x-python",
      "name": "python",
      "nbconvert_exporter": "python",
      "pygments_lexer": "ipython3",
      "version": "3.9.6"
    }
  },
  "nbformat": 4,
  "nbformat_minor": 5
}