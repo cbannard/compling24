{
  "cells": [
    {
      "cell_type": "markdown",
      "metadata": {
        "id": "4_7KjskLX1q-"
      },
      "source": [
        "# LELA30252 Computational Linguistics Week 10\n",
        "\n",
        "This week we are going to take a look at Syntactic parsing\n"
      ],
      "id": "4_7KjskLX1q-"
    },
    {
      "cell_type": "markdown",
      "source": [
        "We are going once again to use tools from NLTK, which we need to import as follows:"
      ],
      "metadata": {
        "id": "n72wT8QjotJe"
      },
      "id": "n72wT8QjotJe"
    },
    {
      "cell_type": "code",
      "source": [
        "import nltk\n",
        "from nltk.parse.generate import generate\n",
        "from nltk import CFG, Tree\n",
        "nltk.download('punkt_tab')\n"
      ],
      "metadata": {
        "id": "-8VxIaVtb1Mz"
      },
      "execution_count": null,
      "outputs": [],
      "id": "-8VxIaVtb1Mz"
    },
    {
      "cell_type": "markdown",
      "source": [
        "We can define phrase structure grammars using rewrite rules (see week 10 lecture for a definition) as follows:"
      ],
      "metadata": {
        "id": "3aoNQdlpo-u8"
      },
      "id": "3aoNQdlpo-u8"
    },
    {
      "cell_type": "code",
      "source": [
        "grammar = nltk.CFG.fromstring(\"\"\"\n",
        "    S -> NP VP\n",
        "    NP -> Det N | Pronoun\n",
        "    VP -> V NP\n",
        "    Det -> 'the'\n",
        "    Pronoun -> 'I'\n",
        "    N -> 'dishes'\n",
        "    V -> 'washed'\n",
        " \"\"\")"
      ],
      "metadata": {
        "id": "kbI6KouNhf5c"
      },
      "id": "kbI6KouNhf5c",
      "execution_count": null,
      "outputs": []
    },
    {
      "cell_type": "markdown",
      "source": [
        "We can then \"parse\" tokenised input sentences as follows:"
      ],
      "metadata": {
        "id": "PjuYbB6UpR_Y"
      },
      "id": "PjuYbB6UpR_Y"
    },
    {
      "cell_type": "code",
      "source": [
        "# define sentence and tokenize it\n",
        "sent = 'I washed the dishes'\n",
        "sent = nltk.word_tokenize(sent)\n",
        "# use a parser to generate all possible syntax trees for the input sentence given our grammar\n",
        "parser = nltk.ChartParser(grammar)\n",
        "# print out all analyses\n",
        "for tree in parser.parse(sent):\n",
        "    nltk.Tree.fromstring(str(tree)).pretty_print()"
      ],
      "metadata": {
        "id": "uei3wXryhnnv"
      },
      "execution_count": null,
      "outputs": [],
      "id": "uei3wXryhnnv"
    },
    {
      "cell_type": "markdown",
      "source": [
        "And we can generate from the grammar as follows:"
      ],
      "metadata": {
        "id": "C2m4CYAHvcQV"
      },
      "id": "C2m4CYAHvcQV"
    },
    {
      "cell_type": "code",
      "source": [
        "for sentence in generate(grammar):\n",
        "     print(' '.join(sentence))"
      ],
      "metadata": {
        "id": "ZMwVlntfPzuX"
      },
      "id": "ZMwVlntfPzuX",
      "execution_count": null,
      "outputs": []
    },
    {
      "cell_type": "markdown",
      "source": [
        "Activity: Update the grammar so that it will parse \"They washed the car\". You can use the \"|\" symbol to allow multiple words or symbols on the right hand side of the rule, e.g. V -> 'washed' | 'threw'"
      ],
      "metadata": {
        "id": "gCRbrUlgvjtK"
      },
      "id": "gCRbrUlgvjtK"
    },
    {
      "cell_type": "markdown",
      "source": [
        "Activity: Update the grammar so that it will parse \"The boy and his dog enter the park\". Note - it is permitted for the same terminal symbol to appear on the left and the right hand side of the same rule."
      ],
      "metadata": {
        "id": "U7n04N11yd81"
      },
      "id": "U7n04N11yd81"
    },
    {
      "cell_type": "markdown",
      "source": [
        "Activity: Generate from the grammar again. Why does it crash?"
      ],
      "metadata": {
        "id": "oERSzKlR3kLu"
      },
      "id": "oERSzKlR3kLu"
    },
    {
      "cell_type": "markdown",
      "source": [
        "Activity: Update the grammar so that it will correctly parse the sentence \"I washed the dishes on the counter\". The intended interpretation is that the dishes were formerly on the counter and the washing took place in the sink. So the correct parse is as follows."
      ],
      "metadata": {
        "id": "Vt1DHCZRhwZs"
      },
      "id": "Vt1DHCZRhwZs"
    },
    {
      "cell_type": "markdown",
      "source": [
        "![washed](https://drive.google.com/uc?id=12yRfGuoebWoRl_Li-ydmla6IIj7tDjwv)"
      ],
      "metadata": {
        "id": "XGOwXgCg2bD7"
      },
      "id": "XGOwXgCg2bD7"
    },
    {
      "cell_type": "code",
      "source": [
        "grammar = nltk.CFG.fromstring(\"\"\"\n",
        "    S -> NP VP\n",
        "    NP -> Det N | Pronoun\n",
        "    VP -> V NP\n",
        "    Det -> 'the'\n",
        "    Pronoun -> 'I'\n",
        "    N -> 'dishes'\n",
        "    V -> 'washed'\n",
        " \"\"\")"
      ],
      "metadata": {
        "id": "YPWn6A3Sh8_A"
      },
      "id": "YPWn6A3Sh8_A",
      "execution_count": null,
      "outputs": []
    },
    {
      "cell_type": "code",
      "source": [
        "sent = 'I washed the dishes on the counter'\n",
        "sent = nltk.word_tokenize(sent)\n",
        "parser = nltk.ChartParser(grammar)\n",
        "for tree in parser.parse(sent):\n",
        "    nltk.Tree.fromstring(str(tree)).pretty_print()"
      ],
      "metadata": {
        "id": "rfrDwKvWiIYW"
      },
      "id": "rfrDwKvWiIYW",
      "execution_count": null,
      "outputs": []
    },
    {
      "cell_type": "markdown",
      "source": [
        "Activity: now add rules to the same grammar to also give the correct analysis to the sentence \"I washed my hair in the shower\""
      ],
      "metadata": {
        "id": "cUD6dGGmwPV5"
      },
      "id": "cUD6dGGmwPV5"
    },
    {
      "cell_type": "code",
      "source": [
        "sentences = ['I washed the dishes on the counter', 'I washed my hair in the shower']\n",
        "parser = nltk.ChartParser(grammar)\n",
        "for sent in sentences:\n",
        "    for tree in parser.parse(nltk.word_tokenize(sent)):\n",
        "        nltk.Tree.fromstring(str(tree)).pretty_print()"
      ],
      "metadata": {
        "id": "bpfBAEJuwseD"
      },
      "id": "bpfBAEJuwseD",
      "execution_count": null,
      "outputs": []
    },
    {
      "cell_type": "markdown",
      "source": [
        "# Probabilistic Grammar\n",
        "Because even very simple grammars can allow multiple, and sometimes a great many, analyses for simple sentences, particularly as the grammar gets big, it becomes necessary to find a way to prefer one parse over others. One way to accomplish this is with probabilistic grammars where a weight is given to each rule."
      ],
      "metadata": {
        "id": "YOX_q1_82Ab9"
      },
      "id": "YOX_q1_82Ab9"
    },
    {
      "cell_type": "code",
      "source": [
        "grammar = nltk.PCFG.fromstring(\"\"\"\n",
        "    S -> NP VP [1.0]\n",
        "    NP -> Det N [0.25]\n",
        "    NP -> NP PP [0.25]\n",
        "    NP -> N PP [0.25]\n",
        "    NP -> Pronoun [0.25]\n",
        "    PP -> P NP [1.0]\n",
        "    VP -> V NP [0.5]\n",
        "    VP -> VP PP [0.5]\n",
        "    Det -> 'the' [0.5]\n",
        "    Det -> 'my' [0.5]\n",
        "    Pronoun -> 'I' [1.0]\n",
        "    N -> 'dishes'  [0.25]\n",
        "    N -> 'sink' [0.25]\n",
        "    N -> 'breakfast' [0.25]\n",
        "    N -> 'pyjamas'[0.25]\n",
        "    V -> 'washed' [0.5]\n",
        "    V ->  'ate' [0.5]\n",
        "    P -> 'in' [1.0]\n",
        " \"\"\")"
      ],
      "metadata": {
        "id": "fnJplKtw2Alr"
      },
      "id": "fnJplKtw2Alr",
      "execution_count": null,
      "outputs": []
    },
    {
      "cell_type": "code",
      "source": [
        "sentences = ['I ate my breakfast in my pyjamas', 'I washed the dishes in the sink']\n",
        "parser = nltk.ViterbiParser(grammar)\n",
        "import re\n",
        "for sent in sentences:\n",
        "    for tree in parser.parse_all(nltk.word_tokenize(sent)):\n",
        "        tree = re.sub(\"\\(p[^\\)]+\\)\",\"\",str(tree))\n",
        "        nltk.Tree.fromstring(str(tree)).pretty_print()\n"
      ],
      "metadata": {
        "id": "OWCIXk2PwyqS"
      },
      "id": "OWCIXk2PwyqS",
      "execution_count": null,
      "outputs": []
    },
    {
      "cell_type": "markdown",
      "source": [
        "Activity: Change the probabilities to assign the correct analysis for I washed the dishes in the sink"
      ],
      "metadata": {
        "id": "2cXz4qDqtaFD"
      },
      "id": "2cXz4qDqtaFD"
    },
    {
      "cell_type": "markdown",
      "source": [
        "Getting the correct solution for both sentences at the same time requires an additional change to the form of the grammar. Any ideas what might work?"
      ],
      "metadata": {
        "id": "Lmj4_sJtvZrY"
      },
      "id": "Lmj4_sJtvZrY"
    },
    {
      "cell_type": "markdown",
      "source": [
        "## Treebanks and grammar induction\n",
        "\n",
        "Just writing these few small toy grammars has been quite involved. Writing full grammars that will have wide coverage is extremely difficult. We therefore learn them from corpora that have been annotated with syntax trees, known as treebanks.\n",
        "\n",
        "Some treebanks are build into NLTK and we can load an example as follows:"
      ],
      "metadata": {
        "id": "1S4g-sorYNhc"
      },
      "id": "1S4g-sorYNhc"
    },
    {
      "cell_type": "code",
      "source": [
        "from nltk.corpus import treebank\n",
        "nltk.download('treebank')"
      ],
      "metadata": {
        "id": "0VA9K4C1USgc"
      },
      "id": "0VA9K4C1USgc",
      "execution_count": null,
      "outputs": []
    },
    {
      "cell_type": "markdown",
      "source": [
        "We can inspect an example tree as follows:"
      ],
      "metadata": {
        "id": "H5-qKSNB33tr"
      },
      "id": "H5-qKSNB33tr"
    },
    {
      "cell_type": "code",
      "source": [
        "t = treebank.parsed_sents('wsj_0001.mrg')[0]\n",
        "nltk.Tree.fromstring(str(t)).pretty_print()"
      ],
      "metadata": {
        "id": "GWPcUrvfY8Jj"
      },
      "id": "GWPcUrvfY8Jj",
      "execution_count": null,
      "outputs": []
    },
    {
      "cell_type": "markdown",
      "source": [
        "We can learn a grammar from treebank data as follows.\n",
        "\n",
        "First we have to make a slight change to the format of the trees:"
      ],
      "metadata": {
        "id": "DTGYUaNJ4FbW"
      },
      "id": "DTGYUaNJ4FbW"
    },
    {
      "cell_type": "code",
      "source": [
        "productions = []\n",
        "for item in treebank.fileids():\n",
        "  for tree in treebank.parsed_sents(item):\n",
        "    # perform optional tree transformations, e.g.:\n",
        "    tree.collapse_unary(collapsePOS = False)# Remove branches A-B-C into A-B+C\n",
        "    tree.chomsky_normal_form(horzMarkov = 2)# Remove A->(B,C,D) into A->B,C+D->D\n",
        "    productions += tree.productions()"
      ],
      "metadata": {
        "id": "ty4NfukUYfaM"
      },
      "id": "ty4NfukUYfaM",
      "execution_count": null,
      "outputs": []
    },
    {
      "cell_type": "markdown",
      "source": [
        "And then we can \"induce\" a probabilistic grammar as follows."
      ],
      "metadata": {
        "id": "fsrPL2Xu4QJm"
      },
      "id": "fsrPL2Xu4QJm"
    },
    {
      "cell_type": "code",
      "source": [
        "from nltk import induce_pcfg, grammar\n",
        "S = grammar.Nonterminal('S')\n",
        "grammar_PCFG = induce_pcfg(S, productions)\n",
        "print(grammar_PCFG)"
      ],
      "metadata": {
        "id": "rMGpNmBTVDxf"
      },
      "id": "rMGpNmBTVDxf",
      "execution_count": null,
      "outputs": []
    },
    {
      "cell_type": "code",
      "source": [
        "sentences = ['I drive in the city']\n",
        "parser = nltk.ViterbiParser(grammar_PCFG)\n",
        "import re\n",
        "for sent in sentences:\n",
        "    for tree in parser.parse_all(nltk.word_tokenize(sent)):\n",
        "        tree = re.sub(\"\\(p[^\\)]+\\)\",\"\",str(tree))\n",
        "        nltk.Tree.fromstring(str(tree)).pretty_print()"
      ],
      "metadata": {
        "id": "qisoi2OwbcGK"
      },
      "id": "qisoi2OwbcGK",
      "execution_count": null,
      "outputs": []
    }
  ],
  "metadata": {
    "colab": {
      "name": "Week_11_Seminar.ipynb",
      "provenance": []
    },
    "kernelspec": {
      "display_name": "Python 3",
      "language": "python",
      "name": "python3"
    },
    "language_info": {
      "codemirror_mode": {
        "name": "ipython",
        "version": 3
      },
      "file_extension": ".py",
      "mimetype": "text/x-python",
      "name": "python",
      "nbconvert_exporter": "python",
      "pygments_lexer": "ipython3",
      "version": "3.7.6"
    }
  },
  "nbformat": 4,
  "nbformat_minor": 5
}